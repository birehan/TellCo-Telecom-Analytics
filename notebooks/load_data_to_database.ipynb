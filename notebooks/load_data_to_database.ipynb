{
 "cells": [
  {
   "cell_type": "code",
   "execution_count": 3,
   "metadata": {},
   "outputs": [],
   "source": [
    "import pandas as pd\n",
    "import sys\n",
    "import os\n",
    "\n",
    "sys.path.append(os.path.abspath(os.path.join('../src')))\n",
    "from data_loader import load_sql_to_dataframe, run_sql_query, populate_dataframe_to_database"
   ]
  },
  {
   "cell_type": "markdown",
   "metadata": {},
   "source": [
    "### Load sql file dumped data to dataframe"
   ]
  },
  {
   "cell_type": "markdown",
   "metadata": {},
   "source": []
  },
  {
   "cell_type": "code",
   "execution_count": 18,
   "metadata": {},
   "outputs": [
    {
     "name": "stderr",
     "output_type": "stream",
     "text": [
      "/home/babi/Desktop/10academy/TellCo-Telecom-Analytics/src/data_loader.py:74: DtypeWarning: Columns (2,4,5,12,13,26,27,28,53,54) have mixed types. Specify dtype option on import or set low_memory=False.\n",
      "  df = pd.read_csv(data_io, delimiter='\\t', header=None)\n",
      "2023-12-14 10:18:28,986:logger:Load sql file dumped data to pandas dataframe.\n"
     ]
    },
    {
     "name": "stdout",
     "output_type": "stream",
     "text": [
      "           (\"Bearer Id\"          \"Start\" \"Start ms\"            \"End\" \"End ms\"  \\\n",
      "0  1.31144834608449e+19   4/4/2019 12:01        770  4/25/2019 14:35      662   \n",
      "1  1.31144834828789e+19   4/9/2019 13:04        235   4/25/2019 8:15      606   \n",
      "2  1.31144834840805e+19   4/9/2019 17:42          1  4/25/2019 11:58      652   \n",
      "3  1.31144834854428e+19   4/10/2019 0:31        486   4/25/2019 7:36      171   \n",
      "4  1.31144834994807e+19  4/12/2019 20:10        565  4/25/2019 10:40      954   \n",
      "\n",
      "  \"Dur. (ms)\"           \"IMSI\" \"MSISDN/Number\"          \"IMEI\"  \\\n",
      "0     1823652  208201448079117     33664962239  35521209507511   \n",
      "1     1365104  208201909211140     33681854413  35794009006359   \n",
      "2     1361762  208200314458056     33760627129  35281510359387   \n",
      "3     1321509  208201402342131     33750343200  35356610164913   \n",
      "4     1089009  208201401415120     33699795932  35407009745539   \n",
      "\n",
      "    \"Last Location Name\"  ... \"Youtube DL (Bytes)\" \"Youtube UL (Bytes)\"  \\\n",
      "0  9.16456699548519E+015  ...           15854611.0            2501332.0   \n",
      "1                L77566A  ...           20247395.0           19111729.0   \n",
      "2                D42335A  ...           19725661.0           14699576.0   \n",
      "3                T21824A  ...           21388122.0           15146643.0   \n",
      "4                D88865A  ...           15259380.0           18962873.0   \n",
      "\n",
      "  \"Netflix DL (Bytes)\" \"Netflix UL (Bytes)\" \"Gaming DL (Bytes)\"  \\\n",
      "0            8198936.0            9656251.0         278082303.0   \n",
      "1           18338413.0           17227132.0         608750074.0   \n",
      "2           17587794.0            6163408.0         229584621.0   \n",
      "3           13994646.0            1097942.0         799538153.0   \n",
      "4           17124581.0             415218.0         527707248.0   \n",
      "\n",
      "  \"Gaming UL (Bytes)\" \"Other DL (Bytes)\" \"Other UL (Bytes)\"  \\\n",
      "0          14344150.0        171744450.0          8814393.0   \n",
      "1           1170709.0        526904238.0         15055145.0   \n",
      "2            395630.0        410692588.0          4215763.0   \n",
      "3          10849722.0        749039933.0         12797283.0   \n",
      "4           3529801.0        550709500.0         13910322.0   \n",
      "\n",
      "  \"Total UL (Bytes)\" \"Total DL (Bytes)\")  \n",
      "0           36749741           308879636  \n",
      "1           53800391           653384965  \n",
      "2           27883638           279807335  \n",
      "3           43324218           846028530  \n",
      "4           38542814           569138589  \n",
      "\n",
      "[5 rows x 55 columns]\n"
     ]
    }
   ],
   "source": [
    "df = load_sql_to_dataframe('../data/telecom.sql')\n",
    "print(df.head())"
   ]
  },
  {
   "cell_type": "markdown",
   "metadata": {},
   "source": [
    "### Load the data to postges database"
   ]
  },
  {
   "cell_type": "code",
   "execution_count": 19,
   "metadata": {},
   "outputs": [],
   "source": [
    "# Connection parameters\n",
    "connection_params = {\n",
    "    \"host\": \"localhost\",\n",
    "    \"user\": \"birehan\",\n",
    "    \"password\": \"password\",\n",
    "    \"port\": \"5432\",\n",
    "    \"database\": \"tellco_db\"  # Change to your desired database name\n",
    "}\n",
    "table_name = \"public.xdr_data\"\n",
    "\n",
    "queries = [\n",
    "    \"SET statement_timeout = 0;\",\n",
    "    \"SET lock_timeout = 0;\",\n",
    "    \"SET idle_in_transaction_session_timeout = 0;\",\n",
    "    \"SET client_encoding = 'UTF8';\",\n",
    "    \"SET standard_conforming_strings = on;\",\n",
    "    \"SELECT pg_catalog.set_config('search_path', '', false);\",\n",
    "    \"SET check_function_bodies = false;\",\n",
    "    \"SET xmloption = content;\",\n",
    "    \"SET client_min_messages = warning;\",\n",
    "    \"SET row_security = off;\",\n",
    "    \"SET default_tablespace = '';\",\n",
    "    \"SET default_table_access_method = heap;\",\n",
    "    \n",
    "]\n",
    "\n",
    "create_table_query =  '''CREATE TABLE public.xdr_data (\n",
    "    \"Bearer Id\" double precision,\n",
    "    \"Start\" double precision,\n",
    "    \"Start ms\" double precision,\n",
    "    \"End\" double precision,\n",
    "    \"End ms\" double precision,\n",
    "    \"Dur. (ms)\" double precision,\n",
    "    \"IMSI\" double precision,\n",
    "    \"MSISDN/Number\" double precision,\n",
    "    \"IMEI\" double precision,\n",
    "    \"Last Location Name\" text,\n",
    "    \"Avg RTT DL (ms)\" double precision,\n",
    "    \"Avg RTT UL (ms)\" double precision,\n",
    "    \"Avg Bearer TP DL (kbps)\" double precision,\n",
    "    \"Avg Bearer TP UL (kbps)\" double precision,\n",
    "    \"TCP DL Retrans. Vol (Bytes)\" double precision,\n",
    "    \"TCP UL Retrans. Vol (Bytes)\" double precision,\n",
    "    \"DL TP < 50 Kbps (%)\" double precision,\n",
    "    \"50 Kbps < DL TP < 250 Kbps (%)\" double precision,\n",
    "    \"250 Kbps < DL TP < 1 Mbps (%)\" double precision,\n",
    "    \"DL TP > 1 Mbps (%)\" double precision,\n",
    "    \"UL TP < 10 Kbps (%)\" double precision,\n",
    "    \"10 Kbps < UL TP < 50 Kbps (%)\" double precision,\n",
    "    \"50 Kbps < UL TP < 300 Kbps (%)\" double precision,\n",
    "    \"UL TP > 300 Kbps (%)\" double precision,\n",
    "    \"HTTP DL (Bytes)\" double precision,\n",
    "    \"HTTP UL (Bytes)\" double precision,\n",
    "    \"Activity Duration DL (ms)\" double precision,\n",
    "    \"Activity Duration UL (ms)\" double precision,\n",
    "    \"Dur. (ms).1\" double precision,\n",
    "    \"Handset Manufacturer\" text,\n",
    "    \"Handset Type\" text,\n",
    "    \"Nb of sec with 125000B < Vol DL\" double precision,\n",
    "    \"Nb of sec with 1250B < Vol UL < 6250B\" double precision,\n",
    "    \"Nb of sec with 31250B < Vol DL < 125000B\" double precision,\n",
    "    \"Nb of sec with 37500B < Vol UL\" double precision,\n",
    "    \"Nb of sec with 6250B < Vol DL < 31250B\" double precision,\n",
    "    \"Nb of sec with 6250B < Vol UL < 37500B\" double precision,\n",
    "    \"Nb of sec with Vol DL < 6250B\" double precision,\n",
    "    \"Nb of sec with Vol UL < 1250B\" double precision,\n",
    "    \"Social Media DL (Bytes)\" double precision,\n",
    "    \"Social Media UL (Bytes)\" double precision,\n",
    "    \"Google DL (Bytes)\" double precision,\n",
    "    \"Google UL (Bytes)\" double precision,\n",
    "    \"Email DL (Bytes)\" double precision,\n",
    "    \"Email UL (Bytes)\" double precision,\n",
    "    \"Youtube DL (Bytes)\" double precision,\n",
    "    \"Youtube UL (Bytes)\" double precision,\n",
    "    \"Netflix DL (Bytes)\" double precision,\n",
    "    \"Netflix UL (Bytes)\" double precision,\n",
    "    \"Gaming DL (Bytes)\" double precision,\n",
    "    \"Gaming UL (Bytes)\" double precision,\n",
    "    \"Other DL (Bytes)\" double precision,\n",
    "    \"Other UL (Bytes)\" double precision,\n",
    "    \"Total UL (Bytes)\" double precision,\n",
    "    \"Total DL (Bytes)\" double precision\n",
    ");'''\n",
    "change_role_query = \"ALTER TABLE public.xdr_data OWNER TO birehan;\""
   ]
  },
  {
   "cell_type": "code",
   "execution_count": 20,
   "metadata": {},
   "outputs": [
    {
     "name": "stderr",
     "output_type": "stream",
     "text": [
      "2023-12-14 10:18:36,493:logger:Successfully ran SQL query: SET statement_timeout = 0;\n",
      "2023-12-14 10:18:36,502:logger:Successfully ran SQL query: SET lock_timeout = 0;\n",
      "2023-12-14 10:18:36,510:logger:Successfully ran SQL query: SET idle_in_transaction_session_timeout = 0;\n",
      "2023-12-14 10:18:36,521:logger:Successfully ran SQL query: SET client_encoding = 'UTF8';\n",
      "2023-12-14 10:18:36,530:logger:Successfully ran SQL query: SET standard_conforming_strings = on;\n"
     ]
    },
    {
     "name": "stderr",
     "output_type": "stream",
     "text": [
      "2023-12-14 10:18:36,537:logger:Successfully ran SQL query: SELECT pg_catalog.set_config('search_path', '', false);\n",
      "2023-12-14 10:18:36,545:logger:Successfully ran SQL query: SET check_function_bodies = false;\n",
      "2023-12-14 10:18:36,553:logger:Successfully ran SQL query: SET xmloption = content;\n",
      "2023-12-14 10:18:36,564:logger:Successfully ran SQL query: SET client_min_messages = warning;\n",
      "2023-12-14 10:18:36,571:logger:Successfully ran SQL query: SET row_security = off;\n",
      "2023-12-14 10:18:36,579:logger:Successfully ran SQL query: SET default_tablespace = '';\n",
      "2023-12-14 10:18:36,589:logger:Successfully ran SQL query: SET default_table_access_method = heap;\n"
     ]
    }
   ],
   "source": [
    "# Run the queries\n",
    "for query in queries:\n",
    "    run_sql_query(connection_params, query)"
   ]
  },
  {
   "cell_type": "code",
   "execution_count": 5,
   "metadata": {},
   "outputs": [
    {
     "name": "stderr",
     "output_type": "stream",
     "text": [
      "2023-12-13 16:14:45,614:logger:Error running SQL query: relation \"xdr_data\" already exists\n",
      "\n"
     ]
    }
   ],
   "source": [
    "run_sql_query(connection_params, create_table_query)"
   ]
  },
  {
   "cell_type": "code",
   "execution_count": 6,
   "metadata": {},
   "outputs": [
    {
     "name": "stderr",
     "output_type": "stream",
     "text": [
      "2023-12-13 16:14:45,636:logger:Successfully ran SQL query: ALTER TABLE public.xdr_data OWNER TO birehan;\n"
     ]
    }
   ],
   "source": [
    "run_sql_query(connection_params, change_role_query)"
   ]
  },
  {
   "cell_type": "code",
   "execution_count": 7,
   "metadata": {},
   "outputs": [
    {
     "name": "stderr",
     "output_type": "stream",
     "text": [
      "2023-12-13 16:14:45,727:logger:Successfully connected to the database.\n"
     ]
    },
    {
     "name": "stderr",
     "output_type": "stream",
     "text": [
      "2023-12-13 16:15:29,453:logger:Inserted 150005 rows into the database table 'your_table_name'.\n",
      "2023-12-13 16:15:29,454:logger:Database connection closed.\n"
     ]
    }
   ],
   "source": [
    "\n",
    "populate_dataframe_to_database(connection_params, df, table_name)"
   ]
  },
  {
   "cell_type": "markdown",
   "metadata": {},
   "source": [
    "### Save the dataframe as csv file"
   ]
  },
  {
   "cell_type": "code",
   "execution_count": 8,
   "metadata": {},
   "outputs": [],
   "source": [
    "df.to_csv('../data/tellco_data.csv')"
   ]
  },
  {
   "cell_type": "markdown",
   "metadata": {},
   "source": [
    "## Save cleaned data to database"
   ]
  },
  {
   "cell_type": "code",
   "execution_count": 11,
   "metadata": {},
   "outputs": [
    {
     "name": "stdout",
     "output_type": "stream",
     "text": [
      "   Unnamed: 0     bearer_id                start  start_ms  \\\n",
      "0           0  1.311448e+19  2019-04-04 12:01:00     770.0   \n",
      "1           1  1.311448e+19  2019-04-09 13:04:00     235.0   \n",
      "2           2  1.311448e+19  2019-04-09 17:42:00       1.0   \n",
      "3           3  1.311448e+19  2019-04-10 00:31:00     486.0   \n",
      "4           4  1.311448e+19  2019-04-12 20:10:00     565.0   \n",
      "\n",
      "                   end  end_ms     dur_ms          imsi  msisdn_number  \\\n",
      "0  2019-04-25 14:35:00   662.0  244908.75  2.082014e+14   3.366496e+10   \n",
      "1  2019-04-25 08:15:00   606.0  244908.75  2.082019e+14   3.368185e+10   \n",
      "2  2019-04-25 11:58:00   652.0  244908.75  2.082008e+14   3.373458e+10   \n",
      "3  2019-04-25 07:36:00   171.0  244908.75  2.082014e+14   3.373458e+10   \n",
      "4  2019-04-25 10:40:00   954.0  244908.75  2.082014e+14   3.369980e+10   \n",
      "\n",
      "           imei  ... total_ul_bytes  total_dl_bytes  social_media_total_bytes  \\\n",
      "0  3.552121e+13  ...     36749741.0     308879636.0                 1570185.0   \n",
      "1  3.579401e+13  ...     53800391.0     653384965.0                 1933278.0   \n",
      "2  3.528151e+13  ...     27883638.0     279807335.0                 1726277.0   \n",
      "3  3.535661e+13  ...     43324218.0     846028530.0                  657493.0   \n",
      "4  3.540701e+13  ...     38542814.0     569138589.0                  912788.0   \n",
      "\n",
      "   google_total_bytes  email_total_bytes  youtube_total_bytes  \\\n",
      "0           2905912.0          3701304.0           18355943.0   \n",
      "1           4414096.0           937385.0           39359124.0   \n",
      "2          10229119.0          3363124.0           34425237.0   \n",
      "3          11811761.0          2070983.0           36534765.0   \n",
      "4           7748843.0          2110349.0           34222253.0   \n",
      "\n",
      "   netflix_total_bytes  gaming_total_bytes  other_total_bytes  \\\n",
      "0           17855187.0         292426453.0        180558843.0   \n",
      "1           35565545.0         609920783.0        541959383.0   \n",
      "2           23751202.0         229980251.0        414908351.0   \n",
      "3           15092588.0         810387875.0        761837216.0   \n",
      "4           17539799.0         531237049.0        564619822.0   \n",
      "\n",
      "   total_data_bytes  \n",
      "0       345629377.0  \n",
      "1       707185356.0  \n",
      "2       307690973.0  \n",
      "3       889352748.0  \n",
      "4       607681403.0  \n",
      "\n",
      "[5 rows x 54 columns]\n"
     ]
    }
   ],
   "source": [
    "cleaned_df = pd.read_csv('../data/cleaned_tellco_data.csv')\n",
    "print(cleaned_df.head())"
   ]
  },
  {
   "cell_type": "code",
   "execution_count": 14,
   "metadata": {},
   "outputs": [
    {
     "data": {
      "text/plain": [
       "Unnamed: 0                          int64\n",
       "bearer_id                         float64\n",
       "start                              object\n",
       "start_ms                          float64\n",
       "end                                object\n",
       "end_ms                            float64\n",
       "dur_ms                            float64\n",
       "imsi                              float64\n",
       "msisdn_number                     float64\n",
       "imei                              float64\n",
       "last_location_name                 object\n",
       "avg_rtt_dl_ms                     float64\n",
       "avg_rtt_ul_ms                     float64\n",
       "avg_bearer_tp_dl_kbps             float64\n",
       "avg_bearer_tp_ul_kbps             float64\n",
       "dl_tp_<_50_kbps_pct               float64\n",
       "50_kbps_<_dl_tp_<_250_kbps_pct    float64\n",
       "250_kbps_<_dl_tp_<_1_mbps_pct     float64\n",
       "dl_tp_>_1_mbps_pct                float64\n",
       "ul_tp_<_10_kbps_pct               float64\n",
       "10_kbps_<_ul_tp_<_50_kbps_pct     float64\n",
       "50_kbps_<_ul_tp_<_300_kbps_pct    float64\n",
       "ul_tp_>_300_kbps_pct              float64\n",
       "activity_duration_dl_ms           float64\n",
       "activity_duration_ul_ms           float64\n",
       "dur_ms_1                          float64\n",
       "handset_manufacturer               object\n",
       "handset_type                       object\n",
       "nb_of_sec_with_vol_dl_<_6250b     float64\n",
       "nb_of_sec_with_vol_ul_<_1250b     float64\n",
       "social_media_dl_bytes             float64\n",
       "social_media_ul_bytes             float64\n",
       "google_dl_bytes                   float64\n",
       "google_ul_bytes                   float64\n",
       "email_dl_bytes                    float64\n",
       "email_ul_bytes                    float64\n",
       "youtube_dl_bytes                  float64\n",
       "youtube_ul_bytes                  float64\n",
       "netflix_dl_bytes                  float64\n",
       "netflix_ul_bytes                  float64\n",
       "gaming_dl_bytes                   float64\n",
       "gaming_ul_bytes                   float64\n",
       "other_dl_bytes                    float64\n",
       "other_ul_bytes                    float64\n",
       "total_ul_bytes                    float64\n",
       "total_dl_bytes                    float64\n",
       "social_media_total_bytes          float64\n",
       "google_total_bytes                float64\n",
       "email_total_bytes                 float64\n",
       "youtube_total_bytes               float64\n",
       "netflix_total_bytes               float64\n",
       "gaming_total_bytes                float64\n",
       "other_total_bytes                 float64\n",
       "total_data_bytes                  float64\n",
       "dtype: object"
      ]
     },
     "execution_count": 14,
     "metadata": {},
     "output_type": "execute_result"
    }
   ],
   "source": [
    "cleaned_df.dtypes"
   ]
  },
  {
   "cell_type": "code",
   "execution_count": 24,
   "metadata": {},
   "outputs": [],
   "source": [
    "\n",
    "cleaned_table_name = \"public.xdr_data_cleaned\"\n",
    "\n",
    "create_cleaned_table_query =  '''CREATE TABLE public.xdr_data_cleaned (\n",
    "    \"bearer_id\" DOUBLE PRECISION,\n",
    "    \"start\" DOUBLE PRECISION,\n",
    "    \"start_ms\" DOUBLE PRECISION,\n",
    "    \"end\" DOUBLE PRECISION,\n",
    "    \"end_ms\" DOUBLE PRECISION,\n",
    "    \"dur_ms\" DOUBLE PRECISION,\n",
    "    \"imsi\" DOUBLE PRECISION,\n",
    "    \"msisdn_number\" DOUBLE PRECISION,\n",
    "    \"imei\" DOUBLE PRECISION,\n",
    "    \"last_location_name\" text,\n",
    "    \"avg_rtt_dl_ms\" DOUBLE PRECISION,\n",
    "    \"avg_rtt_ul_ms\" DOUBLE PRECISION,\n",
    "    \"avg_bearer_tp_dl_kbps\" DOUBLE PRECISION,\n",
    "    \"avg_bearer_tp_ul_kbps\" DOUBLE PRECISION,\n",
    "    \"dl_tp_<_50_kbps_pct\" DOUBLE PRECISION,\n",
    "    \"50_kbps_<_dl_tp_<_250_kbps_pct\" DOUBLE PRECISION,\n",
    "    \"250_kbps_<_dl_tp_<_1_mbps_pct\" DOUBLE PRECISION,\n",
    "    \"dl_tp_>_1_mbps_pct\" DOUBLE PRECISION,\n",
    "    \"ul_tp_<_10_kbps_pct\" DOUBLE PRECISION,\n",
    "    \"10_kbps_<_ul_tp_<_50_kbps_pct\" DOUBLE PRECISION,\n",
    "    \"50_kbps_<_ul_tp_<_300_kbps_pct\" DOUBLE PRECISION,\n",
    "    \"ul_tp_>_300_kbps_pct\" DOUBLE PRECISION,\n",
    "    \"activity_duration_dl_ms\" DOUBLE PRECISION,\n",
    "    \"activity_duration_ul_ms\" DOUBLE PRECISION,\n",
    "    \"dur_ms_1\" DOUBLE PRECISION,\n",
    "    \"handset_manufacturer\" text,\n",
    "    \"handset_type\" text,\n",
    "    \"nb_of_sec_with_vol_dl_<_6250b\" DOUBLE PRECISION,\n",
    "    \"nb_of_sec_with_vol_ul_<_1250b\" DOUBLE PRECISION,\n",
    "    \"social_media_dl_bytes\" DOUBLE PRECISION,\n",
    "    \"social_media_ul_bytes\" DOUBLE PRECISION,\n",
    "    \"google_dl_bytes\" DOUBLE PRECISION,\n",
    "    \"google_ul_bytes\" DOUBLE PRECISION,\n",
    "    \"email_dl_bytes\" DOUBLE PRECISION,\n",
    "    \"email_ul_bytes\" DOUBLE PRECISION,\n",
    "    \"youtube_dl_bytes\" DOUBLE PRECISION,\n",
    "    \"youtube_ul_bytes\" DOUBLE PRECISION,\n",
    "    \"netflix_dl_bytes\" DOUBLE PRECISION,\n",
    "    \"netflix_ul_bytes\" DOUBLE PRECISION,\n",
    "    \"gaming_dl_bytes\" DOUBLE PRECISION,\n",
    "    \"gaming_ul_bytes\" DOUBLE PRECISION,\n",
    "    \"other_dl_bytes\" DOUBLE PRECISION,\n",
    "    \"other_ul_bytes\" DOUBLE PRECISION,\n",
    "    \"total_ul_bytes\" DOUBLE PRECISION,\n",
    "    \"total_dl_bytes\" DOUBLE PRECISION,\n",
    "    \"social_media_total_bytes\" DOUBLE PRECISION,\n",
    "    \"google_total_bytes\" DOUBLE PRECISION,\n",
    "    \"email_total_bytes\" DOUBLE PRECISION,\n",
    "    \"youtube_total_bytes\" DOUBLE PRECISION,\n",
    "    \"netflix_total_bytes\" DOUBLE PRECISION,\n",
    "    \"gaming_total_bytes\" DOUBLE PRECISION,\n",
    "    \"other_total_bytes\" DOUBLE PRECISION,\n",
    "    \"total_data_bytes\" DOUBLE PRECISION\n",
    ");'''"
   ]
  },
  {
   "cell_type": "code",
   "execution_count": 25,
   "metadata": {},
   "outputs": [
    {
     "name": "stderr",
     "output_type": "stream",
     "text": [
      "2023-12-14 10:22:10,439:logger:Successfully ran SQL query: CREATE TABLE public.xdr_data_cleaned (\n",
      "    \"bearer_id\" DOUBLE PRECISION,\n",
      "    \"start\" DOUBLE PRECISION,\n",
      "    \"start_ms\" DOUBLE PRECISION,\n",
      "    \"end\" DOUBLE PRECISION,\n",
      "    \"end_ms\" DOUBLE PRECISION,\n",
      "    \"dur_ms\" DOUBLE PRECISION,\n",
      "    \"imsi\" DOUBLE PRECISION,\n",
      "    \"msisdn_number\" DOUBLE PRECISION,\n",
      "    \"imei\" DOUBLE PRECISION,\n",
      "    \"last_location_name\" text,\n",
      "    \"avg_rtt_dl_ms\" DOUBLE PRECISION,\n",
      "    \"avg_rtt_ul_ms\" DOUBLE PRECISION,\n",
      "    \"avg_bearer_tp_dl_kbps\" DOUBLE PRECISION,\n",
      "    \"avg_bearer_tp_ul_kbps\" DOUBLE PRECISION,\n",
      "    \"dl_tp_<_50_kbps_pct\" DOUBLE PRECISION,\n",
      "    \"50_kbps_<_dl_tp_<_250_kbps_pct\" DOUBLE PRECISION,\n",
      "    \"250_kbps_<_dl_tp_<_1_mbps_pct\" DOUBLE PRECISION,\n",
      "    \"dl_tp_>_1_mbps_pct\" DOUBLE PRECISION,\n",
      "    \"ul_tp_<_10_kbps_pct\" DOUBLE PRECISION,\n",
      "    \"10_kbps_<_ul_tp_<_50_kbps_pct\" DOUBLE PRECISION,\n",
      "    \"50_kbps_<_ul_tp_<_300_kbps_pct\" DOUBLE PRECISION,\n",
      "    \"ul_tp_>_300_kbps_pct\" DOUBLE PRECISION,\n",
      "    \"activity_duration_dl_ms\" DOUBLE PRECISION,\n",
      "    \"activity_duration_ul_ms\" DOUBLE PRECISION,\n",
      "    \"dur_ms_1\" DOUBLE PRECISION,\n",
      "    \"handset_manufacturer\" text,\n",
      "    \"handset_type\" text,\n",
      "    \"nb_of_sec_with_vol_dl_<_6250b\" DOUBLE PRECISION,\n",
      "    \"nb_of_sec_with_vol_ul_<_1250b\" DOUBLE PRECISION,\n",
      "    \"social_media_dl_bytes\" DOUBLE PRECISION,\n",
      "    \"social_media_ul_bytes\" DOUBLE PRECISION,\n",
      "    \"google_dl_bytes\" DOUBLE PRECISION,\n",
      "    \"google_ul_bytes\" DOUBLE PRECISION,\n",
      "    \"email_dl_bytes\" DOUBLE PRECISION,\n",
      "    \"email_ul_bytes\" DOUBLE PRECISION,\n",
      "    \"youtube_dl_bytes\" DOUBLE PRECISION,\n",
      "    \"youtube_ul_bytes\" DOUBLE PRECISION,\n",
      "    \"netflix_dl_bytes\" DOUBLE PRECISION,\n",
      "    \"netflix_ul_bytes\" DOUBLE PRECISION,\n",
      "    \"gaming_dl_bytes\" DOUBLE PRECISION,\n",
      "    \"gaming_ul_bytes\" DOUBLE PRECISION,\n",
      "    \"other_dl_bytes\" DOUBLE PRECISION,\n",
      "    \"other_ul_bytes\" DOUBLE PRECISION,\n",
      "    \"total_ul_bytes\" DOUBLE PRECISION,\n",
      "    \"total_dl_bytes\" DOUBLE PRECISION,\n",
      "    \"social_media_total_bytes\" DOUBLE PRECISION,\n",
      "    \"google_total_bytes\" DOUBLE PRECISION,\n",
      "    \"email_total_bytes\" DOUBLE PRECISION,\n",
      "    \"youtube_total_bytes\" DOUBLE PRECISION,\n",
      "    \"netflix_total_bytes\" DOUBLE PRECISION,\n",
      "    \"gaming_total_bytes\" DOUBLE PRECISION,\n",
      "    \"other_total_bytes\" DOUBLE PRECISION,\n",
      "    \"total_data_bytes\" DOUBLE PRECISION\n",
      ");\n"
     ]
    }
   ],
   "source": [
    "run_sql_query(connection_params, create_cleaned_table_query)"
   ]
  },
  {
   "cell_type": "code",
   "execution_count": 26,
   "metadata": {},
   "outputs": [
    {
     "name": "stderr",
     "output_type": "stream",
     "text": [
      "2023-12-14 10:22:46,256:logger:Successfully connected to the database.\n",
      "2023-12-14 10:23:47,930:logger:Inserted 150002 rows into the database table 'your_table_name'.\n",
      "2023-12-14 10:23:48,003:logger:Database connection closed.\n"
     ]
    }
   ],
   "source": [
    "populate_dataframe_to_database(connection_params, cleaned_df, cleaned_table_name)"
   ]
  }
 ],
 "metadata": {
  "kernelspec": {
   "display_name": "tenx_week1",
   "language": "python",
   "name": "python3"
  },
  "language_info": {
   "codemirror_mode": {
    "name": "ipython",
    "version": 3
   },
   "file_extension": ".py",
   "mimetype": "text/x-python",
   "name": "python",
   "nbconvert_exporter": "python",
   "pygments_lexer": "ipython3",
   "version": "3.12.0"
  }
 },
 "nbformat": 4,
 "nbformat_minor": 2
}
