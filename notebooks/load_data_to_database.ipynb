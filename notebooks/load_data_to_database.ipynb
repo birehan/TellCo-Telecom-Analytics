{
 "cells": [
  {
   "cell_type": "code",
   "execution_count": 1,
   "metadata": {},
   "outputs": [],
   "source": [
    "import pandas as pd\n",
    "import sys\n",
    "import os\n",
    "\n",
    "sys.path.append(os.path.abspath(os.path.join('../src')))\n",
    "from data_loader import load_sql_to_dataframe, run_sql_query, populate_dataframe_to_database"
   ]
  },
  {
   "cell_type": "markdown",
   "metadata": {},
   "source": [
    "### Load sql file dumped data to dataframe"
   ]
  },
  {
   "cell_type": "markdown",
   "metadata": {},
   "source": []
  },
  {
   "cell_type": "code",
   "execution_count": 2,
   "metadata": {},
   "outputs": [
    {
     "name": "stderr",
     "output_type": "stream",
     "text": [
      "/home/babi/Desktop/10academy/TellCo-Telecom-Analytics/src/data_loader.py:74: DtypeWarning: Columns (2,4,5,12,13,26,27,28,53,54) have mixed types. Specify dtype option on import or set low_memory=False.\n",
      "  df = pd.read_csv(data_io, delimiter='\\t', header=None)\n",
      "2023-12-15 05:29:28,411:logger:Load sql file dumped data to pandas dataframe.\n"
     ]
    },
    {
     "name": "stdout",
     "output_type": "stream",
     "text": [
      "           (\"Bearer Id\"          \"Start\" \"Start ms\"            \"End\" \"End ms\"  \\\n",
      "0  1.31144834608449e+19   4/4/2019 12:01        770  4/25/2019 14:35      662   \n",
      "1  1.31144834828789e+19   4/9/2019 13:04        235   4/25/2019 8:15      606   \n",
      "2  1.31144834840805e+19   4/9/2019 17:42          1  4/25/2019 11:58      652   \n",
      "3  1.31144834854428e+19   4/10/2019 0:31        486   4/25/2019 7:36      171   \n",
      "4  1.31144834994807e+19  4/12/2019 20:10        565  4/25/2019 10:40      954   \n",
      "\n",
      "  \"Dur. (ms)\"           \"IMSI\" \"MSISDN/Number\"          \"IMEI\"  \\\n",
      "0     1823652  208201448079117     33664962239  35521209507511   \n",
      "1     1365104  208201909211140     33681854413  35794009006359   \n",
      "2     1361762  208200314458056     33760627129  35281510359387   \n",
      "3     1321509  208201402342131     33750343200  35356610164913   \n",
      "4     1089009  208201401415120     33699795932  35407009745539   \n",
      "\n",
      "    \"Last Location Name\"  ... \"Youtube DL (Bytes)\" \"Youtube UL (Bytes)\"  \\\n",
      "0  9.16456699548519E+015  ...           15854611.0            2501332.0   \n",
      "1                L77566A  ...           20247395.0           19111729.0   \n",
      "2                D42335A  ...           19725661.0           14699576.0   \n",
      "3                T21824A  ...           21388122.0           15146643.0   \n",
      "4                D88865A  ...           15259380.0           18962873.0   \n",
      "\n",
      "  \"Netflix DL (Bytes)\" \"Netflix UL (Bytes)\" \"Gaming DL (Bytes)\"  \\\n",
      "0            8198936.0            9656251.0         278082303.0   \n",
      "1           18338413.0           17227132.0         608750074.0   \n",
      "2           17587794.0            6163408.0         229584621.0   \n",
      "3           13994646.0            1097942.0         799538153.0   \n",
      "4           17124581.0             415218.0         527707248.0   \n",
      "\n",
      "  \"Gaming UL (Bytes)\" \"Other DL (Bytes)\" \"Other UL (Bytes)\"  \\\n",
      "0          14344150.0        171744450.0          8814393.0   \n",
      "1           1170709.0        526904238.0         15055145.0   \n",
      "2            395630.0        410692588.0          4215763.0   \n",
      "3          10849722.0        749039933.0         12797283.0   \n",
      "4           3529801.0        550709500.0         13910322.0   \n",
      "\n",
      "  \"Total UL (Bytes)\" \"Total DL (Bytes)\")  \n",
      "0           36749741           308879636  \n",
      "1           53800391           653384965  \n",
      "2           27883638           279807335  \n",
      "3           43324218           846028530  \n",
      "4           38542814           569138589  \n",
      "\n",
      "[5 rows x 55 columns]\n"
     ]
    }
   ],
   "source": [
    "df = load_sql_to_dataframe('../data/telecom.sql')\n",
    "print(df.head())"
   ]
  },
  {
   "cell_type": "markdown",
   "metadata": {},
   "source": [
    "### Load the data to postges database"
   ]
  },
  {
   "cell_type": "code",
   "execution_count": 3,
   "metadata": {},
   "outputs": [],
   "source": [
    "# Connection parameters\n",
    "connection_params = {\n",
    "    \"host\": \"localhost\",\n",
    "    \"user\": \"birehan\",\n",
    "    \"password\": \"password\",\n",
    "    \"port\": \"5432\",\n",
    "    \"database\": \"tellco_db\"  # Change to your desired database name\n",
    "}\n",
    "table_name = \"public.xdr_data\"\n",
    "\n",
    "queries = [\n",
    "    \"SET statement_timeout = 0;\",\n",
    "    \"SET lock_timeout = 0;\",\n",
    "    \"SET idle_in_transaction_session_timeout = 0;\",\n",
    "    \"SET client_encoding = 'UTF8';\",\n",
    "    \"SET standard_conforming_strings = on;\",\n",
    "    \"SELECT pg_catalog.set_config('search_path', '', false);\",\n",
    "    \"SET check_function_bodies = false;\",\n",
    "    \"SET xmloption = content;\",\n",
    "    \"SET client_min_messages = warning;\",\n",
    "    \"SET row_security = off;\",\n",
    "    \"SET default_tablespace = '';\",\n",
    "    \"SET default_table_access_method = heap;\",\n",
    "    \n",
    "]\n",
    "\n",
    "create_table_query =  '''CREATE TABLE public.xdr_data (\n",
    "    \"Bearer Id\" double precision,\n",
    "    \"Start\" double precision,\n",
    "    \"Start ms\" double precision,\n",
    "    \"End\" double precision,\n",
    "    \"End ms\" double precision,\n",
    "    \"Dur. (ms)\" double precision,\n",
    "    \"IMSI\" double precision,\n",
    "    \"MSISDN/Number\" double precision,\n",
    "    \"IMEI\" double precision,\n",
    "    \"Last Location Name\" text,\n",
    "    \"Avg RTT DL (ms)\" double precision,\n",
    "    \"Avg RTT UL (ms)\" double precision,\n",
    "    \"Avg Bearer TP DL (kbps)\" double precision,\n",
    "    \"Avg Bearer TP UL (kbps)\" double precision,\n",
    "    \"TCP DL Retrans. Vol (Bytes)\" double precision,\n",
    "    \"TCP UL Retrans. Vol (Bytes)\" double precision,\n",
    "    \"DL TP < 50 Kbps (%)\" double precision,\n",
    "    \"50 Kbps < DL TP < 250 Kbps (%)\" double precision,\n",
    "    \"250 Kbps < DL TP < 1 Mbps (%)\" double precision,\n",
    "    \"DL TP > 1 Mbps (%)\" double precision,\n",
    "    \"UL TP < 10 Kbps (%)\" double precision,\n",
    "    \"10 Kbps < UL TP < 50 Kbps (%)\" double precision,\n",
    "    \"50 Kbps < UL TP < 300 Kbps (%)\" double precision,\n",
    "    \"UL TP > 300 Kbps (%)\" double precision,\n",
    "    \"HTTP DL (Bytes)\" double precision,\n",
    "    \"HTTP UL (Bytes)\" double precision,\n",
    "    \"Activity Duration DL (ms)\" double precision,\n",
    "    \"Activity Duration UL (ms)\" double precision,\n",
    "    \"Dur. (ms).1\" double precision,\n",
    "    \"Handset Manufacturer\" text,\n",
    "    \"Handset Type\" text,\n",
    "    \"Nb of sec with 125000B < Vol DL\" double precision,\n",
    "    \"Nb of sec with 1250B < Vol UL < 6250B\" double precision,\n",
    "    \"Nb of sec with 31250B < Vol DL < 125000B\" double precision,\n",
    "    \"Nb of sec with 37500B < Vol UL\" double precision,\n",
    "    \"Nb of sec with 6250B < Vol DL < 31250B\" double precision,\n",
    "    \"Nb of sec with 6250B < Vol UL < 37500B\" double precision,\n",
    "    \"Nb of sec with Vol DL < 6250B\" double precision,\n",
    "    \"Nb of sec with Vol UL < 1250B\" double precision,\n",
    "    \"Social Media DL (Bytes)\" double precision,\n",
    "    \"Social Media UL (Bytes)\" double precision,\n",
    "    \"Google DL (Bytes)\" double precision,\n",
    "    \"Google UL (Bytes)\" double precision,\n",
    "    \"Email DL (Bytes)\" double precision,\n",
    "    \"Email UL (Bytes)\" double precision,\n",
    "    \"Youtube DL (Bytes)\" double precision,\n",
    "    \"Youtube UL (Bytes)\" double precision,\n",
    "    \"Netflix DL (Bytes)\" double precision,\n",
    "    \"Netflix UL (Bytes)\" double precision,\n",
    "    \"Gaming DL (Bytes)\" double precision,\n",
    "    \"Gaming UL (Bytes)\" double precision,\n",
    "    \"Other DL (Bytes)\" double precision,\n",
    "    \"Other UL (Bytes)\" double precision,\n",
    "    \"Total UL (Bytes)\" double precision,\n",
    "    \"Total DL (Bytes)\" double precision\n",
    ");'''\n",
    "change_role_query = \"ALTER TABLE public.xdr_data OWNER TO birehan;\""
   ]
  },
  {
   "cell_type": "code",
   "execution_count": 4,
   "metadata": {},
   "outputs": [
    {
     "name": "stderr",
     "output_type": "stream",
     "text": [
      "2023-12-15 05:29:28,498:logger:Error running SQL query: no results to fetch\n",
      "2023-12-15 05:29:28,510:logger:Error running SQL query: no results to fetch\n",
      "2023-12-15 05:29:28,522:logger:Error running SQL query: no results to fetch\n",
      "2023-12-15 05:29:28,535:logger:Error running SQL query: no results to fetch\n",
      "2023-12-15 05:29:28,545:logger:Error running SQL query: no results to fetch\n",
      "2023-12-15 05:29:28,560:logger:Successfully ran SQL query: SELECT pg_catalog.set_config('search_path', '', false);\n",
      "2023-12-15 05:29:28,573:logger:Error running SQL query: no results to fetch\n",
      "2023-12-15 05:29:28,588:logger:Error running SQL query: no results to fetch\n",
      "2023-12-15 05:29:28,603:logger:Error running SQL query: no results to fetch\n"
     ]
    },
    {
     "name": "stderr",
     "output_type": "stream",
     "text": [
      "2023-12-15 05:29:28,618:logger:Error running SQL query: no results to fetch\n",
      "2023-12-15 05:29:28,631:logger:Error running SQL query: no results to fetch\n",
      "2023-12-15 05:29:28,645:logger:Error running SQL query: no results to fetch\n"
     ]
    },
    {
     "name": "stdout",
     "output_type": "stream",
     "text": [
      "result: [('',)]\n"
     ]
    }
   ],
   "source": [
    "# Run the queries\n",
    "for query in queries:\n",
    "    run_sql_query(connection_params, query)"
   ]
  },
  {
   "cell_type": "code",
   "execution_count": 5,
   "metadata": {},
   "outputs": [
    {
     "name": "stderr",
     "output_type": "stream",
     "text": [
      "2023-12-15 05:29:28,685:logger:Error running SQL query: relation \"xdr_data\" already exists\n",
      "\n"
     ]
    }
   ],
   "source": [
    "run_sql_query(connection_params, create_table_query)"
   ]
  },
  {
   "cell_type": "code",
   "execution_count": 6,
   "metadata": {},
   "outputs": [
    {
     "name": "stderr",
     "output_type": "stream",
     "text": [
      "2023-12-15 05:29:28,744:logger:Error running SQL query: no results to fetch\n"
     ]
    }
   ],
   "source": [
    "run_sql_query(connection_params, change_role_query)"
   ]
  },
  {
   "cell_type": "code",
   "execution_count": 7,
   "metadata": {},
   "outputs": [
    {
     "name": "stderr",
     "output_type": "stream",
     "text": [
      "2023-12-15 05:29:28,893:logger:Successfully connected to the database.\n"
     ]
    },
    {
     "name": "stderr",
     "output_type": "stream",
     "text": [
      "2023-12-15 05:29:38,361:logger:Database connection closed.\n"
     ]
    },
    {
     "ename": "KeyboardInterrupt",
     "evalue": "",
     "output_type": "error",
     "traceback": [
      "\u001b[0;31m---------------------------------------------------------------------------\u001b[0m",
      "\u001b[0;31mKeyboardInterrupt\u001b[0m                         Traceback (most recent call last)",
      "Cell \u001b[0;32mIn[7], line 1\u001b[0m\n\u001b[0;32m----> 1\u001b[0m \u001b[43mpopulate_dataframe_to_database\u001b[49m\u001b[43m(\u001b[49m\u001b[43mconnection_params\u001b[49m\u001b[43m,\u001b[49m\u001b[43m \u001b[49m\u001b[43mdf\u001b[49m\u001b[43m,\u001b[49m\u001b[43m \u001b[49m\u001b[43mtable_name\u001b[49m\u001b[43m)\u001b[49m\n",
      "File \u001b[0;32m~/Desktop/10academy/TellCo-Telecom-Analytics/src/data_loader.py:171\u001b[0m, in \u001b[0;36mpopulate_dataframe_to_database\u001b[0;34m(connection_params, df, table_name)\u001b[0m\n\u001b[1;32m    168\u001b[0m logger\u001b[38;5;241m.\u001b[39minfo(\u001b[38;5;124m\"\u001b[39m\u001b[38;5;124mSuccessfully connected to the database.\u001b[39m\u001b[38;5;124m\"\u001b[39m)\n\u001b[1;32m    170\u001b[0m \u001b[38;5;66;03m# Insert DataFrame into the database\u001b[39;00m\n\u001b[0;32m--> 171\u001b[0m \u001b[43mdf\u001b[49m\u001b[38;5;241;43m.\u001b[39;49m\u001b[43mto_sql\u001b[49m\u001b[43m(\u001b[49m\u001b[43mname\u001b[49m\u001b[38;5;241;43m=\u001b[39;49m\u001b[43mtable_name\u001b[49m\u001b[43m,\u001b[49m\u001b[43m \u001b[49m\u001b[43mcon\u001b[49m\u001b[38;5;241;43m=\u001b[39;49m\u001b[43mengine\u001b[49m\u001b[43m,\u001b[49m\u001b[43m \u001b[49m\u001b[43mif_exists\u001b[49m\u001b[38;5;241;43m=\u001b[39;49m\u001b[38;5;124;43m'\u001b[39;49m\u001b[38;5;124;43mreplace\u001b[39;49m\u001b[38;5;124;43m'\u001b[39;49m\u001b[43m,\u001b[49m\u001b[43m \u001b[49m\u001b[43mindex\u001b[49m\u001b[38;5;241;43m=\u001b[39;49m\u001b[38;5;28;43;01mFalse\u001b[39;49;00m\u001b[43m)\u001b[49m\n\u001b[1;32m    173\u001b[0m \u001b[38;5;66;03m# Log information\u001b[39;00m\n\u001b[1;32m    174\u001b[0m logger\u001b[38;5;241m.\u001b[39minfo(\u001b[38;5;124mf\u001b[39m\u001b[38;5;124m\"\u001b[39m\u001b[38;5;124mInserted \u001b[39m\u001b[38;5;132;01m{\u001b[39;00m\u001b[38;5;28mlen\u001b[39m(df)\u001b[38;5;132;01m}\u001b[39;00m\u001b[38;5;124m rows into the database table \u001b[39m\u001b[38;5;132;01m{\u001b[39;00mtable_name\u001b[38;5;132;01m}\u001b[39;00m\u001b[38;5;124m.\u001b[39m\u001b[38;5;124m\"\u001b[39m)\n",
      "File \u001b[0;32m~/anaconda3/envs/tenx_week1/lib/python3.12/site-packages/pandas/core/generic.py:2987\u001b[0m, in \u001b[0;36mNDFrame.to_sql\u001b[0;34m(self, name, con, schema, if_exists, index, index_label, chunksize, dtype, method)\u001b[0m\n\u001b[1;32m   2830\u001b[0m \u001b[38;5;250m\u001b[39m\u001b[38;5;124;03m\"\"\"\u001b[39;00m\n\u001b[1;32m   2831\u001b[0m \u001b[38;5;124;03mWrite records stored in a DataFrame to a SQL database.\u001b[39;00m\n\u001b[1;32m   2832\u001b[0m \n\u001b[0;32m   (...)\u001b[0m\n\u001b[1;32m   2983\u001b[0m \u001b[38;5;124;03m[(1,), (None,), (2,)]\u001b[39;00m\n\u001b[1;32m   2984\u001b[0m \u001b[38;5;124;03m\"\"\"\u001b[39;00m  \u001b[38;5;66;03m# noqa:E501\u001b[39;00m\n\u001b[1;32m   2985\u001b[0m \u001b[38;5;28;01mfrom\u001b[39;00m \u001b[38;5;21;01mpandas\u001b[39;00m\u001b[38;5;21;01m.\u001b[39;00m\u001b[38;5;21;01mio\u001b[39;00m \u001b[38;5;28;01mimport\u001b[39;00m sql\n\u001b[0;32m-> 2987\u001b[0m \u001b[38;5;28;01mreturn\u001b[39;00m \u001b[43msql\u001b[49m\u001b[38;5;241;43m.\u001b[39;49m\u001b[43mto_sql\u001b[49m\u001b[43m(\u001b[49m\n\u001b[1;32m   2988\u001b[0m \u001b[43m    \u001b[49m\u001b[38;5;28;43mself\u001b[39;49m\u001b[43m,\u001b[49m\n\u001b[1;32m   2989\u001b[0m \u001b[43m    \u001b[49m\u001b[43mname\u001b[49m\u001b[43m,\u001b[49m\n\u001b[1;32m   2990\u001b[0m \u001b[43m    \u001b[49m\u001b[43mcon\u001b[49m\u001b[43m,\u001b[49m\n\u001b[1;32m   2991\u001b[0m \u001b[43m    \u001b[49m\u001b[43mschema\u001b[49m\u001b[38;5;241;43m=\u001b[39;49m\u001b[43mschema\u001b[49m\u001b[43m,\u001b[49m\n\u001b[1;32m   2992\u001b[0m \u001b[43m    \u001b[49m\u001b[43mif_exists\u001b[49m\u001b[38;5;241;43m=\u001b[39;49m\u001b[43mif_exists\u001b[49m\u001b[43m,\u001b[49m\n\u001b[1;32m   2993\u001b[0m \u001b[43m    \u001b[49m\u001b[43mindex\u001b[49m\u001b[38;5;241;43m=\u001b[39;49m\u001b[43mindex\u001b[49m\u001b[43m,\u001b[49m\n\u001b[1;32m   2994\u001b[0m \u001b[43m    \u001b[49m\u001b[43mindex_label\u001b[49m\u001b[38;5;241;43m=\u001b[39;49m\u001b[43mindex_label\u001b[49m\u001b[43m,\u001b[49m\n\u001b[1;32m   2995\u001b[0m \u001b[43m    \u001b[49m\u001b[43mchunksize\u001b[49m\u001b[38;5;241;43m=\u001b[39;49m\u001b[43mchunksize\u001b[49m\u001b[43m,\u001b[49m\n\u001b[1;32m   2996\u001b[0m \u001b[43m    \u001b[49m\u001b[43mdtype\u001b[49m\u001b[38;5;241;43m=\u001b[39;49m\u001b[43mdtype\u001b[49m\u001b[43m,\u001b[49m\n\u001b[1;32m   2997\u001b[0m \u001b[43m    \u001b[49m\u001b[43mmethod\u001b[49m\u001b[38;5;241;43m=\u001b[39;49m\u001b[43mmethod\u001b[49m\u001b[43m,\u001b[49m\n\u001b[1;32m   2998\u001b[0m \u001b[43m\u001b[49m\u001b[43m)\u001b[49m\n",
      "File \u001b[0;32m~/anaconda3/envs/tenx_week1/lib/python3.12/site-packages/pandas/io/sql.py:695\u001b[0m, in \u001b[0;36mto_sql\u001b[0;34m(frame, name, con, schema, if_exists, index, index_label, chunksize, dtype, method, engine, **engine_kwargs)\u001b[0m\n\u001b[1;32m    690\u001b[0m \u001b[38;5;28;01melif\u001b[39;00m \u001b[38;5;129;01mnot\u001b[39;00m \u001b[38;5;28misinstance\u001b[39m(frame, DataFrame):\n\u001b[1;32m    691\u001b[0m     \u001b[38;5;28;01mraise\u001b[39;00m \u001b[38;5;167;01mNotImplementedError\u001b[39;00m(\n\u001b[1;32m    692\u001b[0m         \u001b[38;5;124m\"\u001b[39m\u001b[38;5;124m'\u001b[39m\u001b[38;5;124mframe\u001b[39m\u001b[38;5;124m'\u001b[39m\u001b[38;5;124m argument should be either a Series or a DataFrame\u001b[39m\u001b[38;5;124m\"\u001b[39m\n\u001b[1;32m    693\u001b[0m     )\n\u001b[0;32m--> 695\u001b[0m \u001b[38;5;28;01mreturn\u001b[39;00m \u001b[43mpandas_sql\u001b[49m\u001b[38;5;241;43m.\u001b[39;49m\u001b[43mto_sql\u001b[49m\u001b[43m(\u001b[49m\n\u001b[1;32m    696\u001b[0m \u001b[43m    \u001b[49m\u001b[43mframe\u001b[49m\u001b[43m,\u001b[49m\n\u001b[1;32m    697\u001b[0m \u001b[43m    \u001b[49m\u001b[43mname\u001b[49m\u001b[43m,\u001b[49m\n\u001b[1;32m    698\u001b[0m \u001b[43m    \u001b[49m\u001b[43mif_exists\u001b[49m\u001b[38;5;241;43m=\u001b[39;49m\u001b[43mif_exists\u001b[49m\u001b[43m,\u001b[49m\n\u001b[1;32m    699\u001b[0m \u001b[43m    \u001b[49m\u001b[43mindex\u001b[49m\u001b[38;5;241;43m=\u001b[39;49m\u001b[43mindex\u001b[49m\u001b[43m,\u001b[49m\n\u001b[1;32m    700\u001b[0m \u001b[43m    \u001b[49m\u001b[43mindex_label\u001b[49m\u001b[38;5;241;43m=\u001b[39;49m\u001b[43mindex_label\u001b[49m\u001b[43m,\u001b[49m\n\u001b[1;32m    701\u001b[0m \u001b[43m    \u001b[49m\u001b[43mschema\u001b[49m\u001b[38;5;241;43m=\u001b[39;49m\u001b[43mschema\u001b[49m\u001b[43m,\u001b[49m\n\u001b[1;32m    702\u001b[0m \u001b[43m    \u001b[49m\u001b[43mchunksize\u001b[49m\u001b[38;5;241;43m=\u001b[39;49m\u001b[43mchunksize\u001b[49m\u001b[43m,\u001b[49m\n\u001b[1;32m    703\u001b[0m \u001b[43m    \u001b[49m\u001b[43mdtype\u001b[49m\u001b[38;5;241;43m=\u001b[39;49m\u001b[43mdtype\u001b[49m\u001b[43m,\u001b[49m\n\u001b[1;32m    704\u001b[0m \u001b[43m    \u001b[49m\u001b[43mmethod\u001b[49m\u001b[38;5;241;43m=\u001b[39;49m\u001b[43mmethod\u001b[49m\u001b[43m,\u001b[49m\n\u001b[1;32m    705\u001b[0m \u001b[43m    \u001b[49m\u001b[43mengine\u001b[49m\u001b[38;5;241;43m=\u001b[39;49m\u001b[43mengine\u001b[49m\u001b[43m,\u001b[49m\n\u001b[1;32m    706\u001b[0m \u001b[43m    \u001b[49m\u001b[38;5;241;43m*\u001b[39;49m\u001b[38;5;241;43m*\u001b[39;49m\u001b[43mengine_kwargs\u001b[49m\u001b[43m,\u001b[49m\n\u001b[1;32m    707\u001b[0m \u001b[43m\u001b[49m\u001b[43m)\u001b[49m\n",
      "File \u001b[0;32m~/anaconda3/envs/tenx_week1/lib/python3.12/site-packages/pandas/io/sql.py:1738\u001b[0m, in \u001b[0;36mSQLDatabase.to_sql\u001b[0;34m(self, frame, name, if_exists, index, index_label, schema, chunksize, dtype, method, engine, **engine_kwargs)\u001b[0m\n\u001b[1;32m   1726\u001b[0m sql_engine \u001b[38;5;241m=\u001b[39m get_engine(engine)\n\u001b[1;32m   1728\u001b[0m table \u001b[38;5;241m=\u001b[39m \u001b[38;5;28mself\u001b[39m\u001b[38;5;241m.\u001b[39mprep_table(\n\u001b[1;32m   1729\u001b[0m     frame\u001b[38;5;241m=\u001b[39mframe,\n\u001b[1;32m   1730\u001b[0m     name\u001b[38;5;241m=\u001b[39mname,\n\u001b[0;32m   (...)\u001b[0m\n\u001b[1;32m   1735\u001b[0m     dtype\u001b[38;5;241m=\u001b[39mdtype,\n\u001b[1;32m   1736\u001b[0m )\n\u001b[0;32m-> 1738\u001b[0m total_inserted \u001b[38;5;241m=\u001b[39m \u001b[43msql_engine\u001b[49m\u001b[38;5;241;43m.\u001b[39;49m\u001b[43minsert_records\u001b[49m\u001b[43m(\u001b[49m\n\u001b[1;32m   1739\u001b[0m \u001b[43m    \u001b[49m\u001b[43mtable\u001b[49m\u001b[38;5;241;43m=\u001b[39;49m\u001b[43mtable\u001b[49m\u001b[43m,\u001b[49m\n\u001b[1;32m   1740\u001b[0m \u001b[43m    \u001b[49m\u001b[43mcon\u001b[49m\u001b[38;5;241;43m=\u001b[39;49m\u001b[38;5;28;43mself\u001b[39;49m\u001b[38;5;241;43m.\u001b[39;49m\u001b[43mconnectable\u001b[49m\u001b[43m,\u001b[49m\n\u001b[1;32m   1741\u001b[0m \u001b[43m    \u001b[49m\u001b[43mframe\u001b[49m\u001b[38;5;241;43m=\u001b[39;49m\u001b[43mframe\u001b[49m\u001b[43m,\u001b[49m\n\u001b[1;32m   1742\u001b[0m \u001b[43m    \u001b[49m\u001b[43mname\u001b[49m\u001b[38;5;241;43m=\u001b[39;49m\u001b[43mname\u001b[49m\u001b[43m,\u001b[49m\n\u001b[1;32m   1743\u001b[0m \u001b[43m    \u001b[49m\u001b[43mindex\u001b[49m\u001b[38;5;241;43m=\u001b[39;49m\u001b[43mindex\u001b[49m\u001b[43m,\u001b[49m\n\u001b[1;32m   1744\u001b[0m \u001b[43m    \u001b[49m\u001b[43mschema\u001b[49m\u001b[38;5;241;43m=\u001b[39;49m\u001b[43mschema\u001b[49m\u001b[43m,\u001b[49m\n\u001b[1;32m   1745\u001b[0m \u001b[43m    \u001b[49m\u001b[43mchunksize\u001b[49m\u001b[38;5;241;43m=\u001b[39;49m\u001b[43mchunksize\u001b[49m\u001b[43m,\u001b[49m\n\u001b[1;32m   1746\u001b[0m \u001b[43m    \u001b[49m\u001b[43mmethod\u001b[49m\u001b[38;5;241;43m=\u001b[39;49m\u001b[43mmethod\u001b[49m\u001b[43m,\u001b[49m\n\u001b[1;32m   1747\u001b[0m \u001b[43m    \u001b[49m\u001b[38;5;241;43m*\u001b[39;49m\u001b[38;5;241;43m*\u001b[39;49m\u001b[43mengine_kwargs\u001b[49m\u001b[43m,\u001b[49m\n\u001b[1;32m   1748\u001b[0m \u001b[43m\u001b[49m\u001b[43m)\u001b[49m\n\u001b[1;32m   1750\u001b[0m \u001b[38;5;28mself\u001b[39m\u001b[38;5;241m.\u001b[39mcheck_case_sensitive(name\u001b[38;5;241m=\u001b[39mname, schema\u001b[38;5;241m=\u001b[39mschema)\n\u001b[1;32m   1751\u001b[0m \u001b[38;5;28;01mreturn\u001b[39;00m total_inserted\n",
      "File \u001b[0;32m~/anaconda3/envs/tenx_week1/lib/python3.12/site-packages/pandas/io/sql.py:1325\u001b[0m, in \u001b[0;36mSQLAlchemyEngine.insert_records\u001b[0;34m(self, table, con, frame, name, index, schema, chunksize, method, **engine_kwargs)\u001b[0m\n\u001b[1;32m   1322\u001b[0m \u001b[38;5;28;01mfrom\u001b[39;00m \u001b[38;5;21;01msqlalchemy\u001b[39;00m \u001b[38;5;28;01mimport\u001b[39;00m exc\n\u001b[1;32m   1324\u001b[0m \u001b[38;5;28;01mtry\u001b[39;00m:\n\u001b[0;32m-> 1325\u001b[0m     \u001b[38;5;28;01mreturn\u001b[39;00m \u001b[43mtable\u001b[49m\u001b[38;5;241;43m.\u001b[39;49m\u001b[43minsert\u001b[49m\u001b[43m(\u001b[49m\u001b[43mchunksize\u001b[49m\u001b[38;5;241;43m=\u001b[39;49m\u001b[43mchunksize\u001b[49m\u001b[43m,\u001b[49m\u001b[43m \u001b[49m\u001b[43mmethod\u001b[49m\u001b[38;5;241;43m=\u001b[39;49m\u001b[43mmethod\u001b[49m\u001b[43m)\u001b[49m\n\u001b[1;32m   1326\u001b[0m \u001b[38;5;28;01mexcept\u001b[39;00m exc\u001b[38;5;241m.\u001b[39mSQLAlchemyError \u001b[38;5;28;01mas\u001b[39;00m err:\n\u001b[1;32m   1327\u001b[0m     \u001b[38;5;66;03m# GH34431\u001b[39;00m\n\u001b[1;32m   1328\u001b[0m     \u001b[38;5;66;03m# https://stackoverflow.com/a/67358288/6067848\u001b[39;00m\n\u001b[1;32m   1329\u001b[0m     msg \u001b[38;5;241m=\u001b[39m \u001b[38;5;124mr\u001b[39m\u001b[38;5;124m\"\"\"\u001b[39m\u001b[38;5;124m(\u001b[39m\u001b[38;5;124m\\\u001b[39m\u001b[38;5;124m(1054, \u001b[39m\u001b[38;5;124m\"\u001b[39m\u001b[38;5;124mUnknown column \u001b[39m\u001b[38;5;124m'\u001b[39m\u001b[38;5;124minf(e0)?\u001b[39m\u001b[38;5;124m'\u001b[39m\u001b[38;5;124m in \u001b[39m\u001b[38;5;124m'\u001b[39m\u001b[38;5;124mfield list\u001b[39m\u001b[38;5;124m'\u001b[39m\u001b[38;5;124m\"\u001b[39m\u001b[38;5;124m\\\u001b[39m\u001b[38;5;124m))(?#\u001b[39m\n\u001b[1;32m   1330\u001b[0m \u001b[38;5;124m    )|inf can not be used with MySQL\u001b[39m\u001b[38;5;124m\"\"\"\u001b[39m\n",
      "File \u001b[0;32m~/anaconda3/envs/tenx_week1/lib/python3.12/site-packages/pandas/io/sql.py:946\u001b[0m, in \u001b[0;36mSQLTable.insert\u001b[0;34m(self, chunksize, method)\u001b[0m\n\u001b[1;32m    943\u001b[0m     \u001b[38;5;28;01mbreak\u001b[39;00m\n\u001b[1;32m    945\u001b[0m chunk_iter \u001b[38;5;241m=\u001b[39m \u001b[38;5;28mzip\u001b[39m(\u001b[38;5;241m*\u001b[39m(arr[start_i:end_i] \u001b[38;5;28;01mfor\u001b[39;00m arr \u001b[38;5;129;01min\u001b[39;00m data_list))\n\u001b[0;32m--> 946\u001b[0m num_inserted \u001b[38;5;241m=\u001b[39m \u001b[43mexec_insert\u001b[49m\u001b[43m(\u001b[49m\u001b[43mconn\u001b[49m\u001b[43m,\u001b[49m\u001b[43m \u001b[49m\u001b[43mkeys\u001b[49m\u001b[43m,\u001b[49m\u001b[43m \u001b[49m\u001b[43mchunk_iter\u001b[49m\u001b[43m)\u001b[49m\n\u001b[1;32m    947\u001b[0m \u001b[38;5;66;03m# GH 46891\u001b[39;00m\n\u001b[1;32m    948\u001b[0m \u001b[38;5;28;01mif\u001b[39;00m is_integer(num_inserted):\n",
      "File \u001b[0;32m~/anaconda3/envs/tenx_week1/lib/python3.12/site-packages/pandas/io/sql.py:853\u001b[0m, in \u001b[0;36mSQLTable._execute_insert\u001b[0;34m(self, conn, keys, data_iter)\u001b[0m\n\u001b[1;32m    841\u001b[0m \u001b[38;5;250m\u001b[39m\u001b[38;5;124;03m\"\"\"\u001b[39;00m\n\u001b[1;32m    842\u001b[0m \u001b[38;5;124;03mExecute SQL statement inserting data\u001b[39;00m\n\u001b[1;32m    843\u001b[0m \n\u001b[0;32m   (...)\u001b[0m\n\u001b[1;32m    850\u001b[0m \u001b[38;5;124;03m   Each item contains a list of values to be inserted\u001b[39;00m\n\u001b[1;32m    851\u001b[0m \u001b[38;5;124;03m\"\"\"\u001b[39;00m\n\u001b[1;32m    852\u001b[0m data \u001b[38;5;241m=\u001b[39m [\u001b[38;5;28mdict\u001b[39m(\u001b[38;5;28mzip\u001b[39m(keys, row)) \u001b[38;5;28;01mfor\u001b[39;00m row \u001b[38;5;129;01min\u001b[39;00m data_iter]\n\u001b[0;32m--> 853\u001b[0m result \u001b[38;5;241m=\u001b[39m \u001b[43mconn\u001b[49m\u001b[38;5;241;43m.\u001b[39;49m\u001b[43mexecute\u001b[49m\u001b[43m(\u001b[49m\u001b[38;5;28;43mself\u001b[39;49m\u001b[38;5;241;43m.\u001b[39;49m\u001b[43mtable\u001b[49m\u001b[38;5;241;43m.\u001b[39;49m\u001b[43minsert\u001b[49m\u001b[43m(\u001b[49m\u001b[43m)\u001b[49m\u001b[43m,\u001b[49m\u001b[43m \u001b[49m\u001b[43mdata\u001b[49m\u001b[43m)\u001b[49m\n\u001b[1;32m    854\u001b[0m \u001b[38;5;28;01mreturn\u001b[39;00m result\u001b[38;5;241m.\u001b[39mrowcount\n",
      "File \u001b[0;32m~/anaconda3/envs/tenx_week1/lib/python3.12/site-packages/sqlalchemy/engine/base.py:1416\u001b[0m, in \u001b[0;36mConnection.execute\u001b[0;34m(self, statement, parameters, execution_options)\u001b[0m\n\u001b[1;32m   1414\u001b[0m     \u001b[38;5;28;01mraise\u001b[39;00m exc\u001b[38;5;241m.\u001b[39mObjectNotExecutableError(statement) \u001b[38;5;28;01mfrom\u001b[39;00m \u001b[38;5;21;01merr\u001b[39;00m\n\u001b[1;32m   1415\u001b[0m \u001b[38;5;28;01melse\u001b[39;00m:\n\u001b[0;32m-> 1416\u001b[0m     \u001b[38;5;28;01mreturn\u001b[39;00m \u001b[43mmeth\u001b[49m\u001b[43m(\u001b[49m\n\u001b[1;32m   1417\u001b[0m \u001b[43m        \u001b[49m\u001b[38;5;28;43mself\u001b[39;49m\u001b[43m,\u001b[49m\n\u001b[1;32m   1418\u001b[0m \u001b[43m        \u001b[49m\u001b[43mdistilled_parameters\u001b[49m\u001b[43m,\u001b[49m\n\u001b[1;32m   1419\u001b[0m \u001b[43m        \u001b[49m\u001b[43mexecution_options\u001b[49m\u001b[43m \u001b[49m\u001b[38;5;129;43;01mor\u001b[39;49;00m\u001b[43m \u001b[49m\u001b[43mNO_OPTIONS\u001b[49m\u001b[43m,\u001b[49m\n\u001b[1;32m   1420\u001b[0m \u001b[43m    \u001b[49m\u001b[43m)\u001b[49m\n",
      "File \u001b[0;32m~/anaconda3/envs/tenx_week1/lib/python3.12/site-packages/sqlalchemy/sql/elements.py:516\u001b[0m, in \u001b[0;36mClauseElement._execute_on_connection\u001b[0;34m(self, connection, distilled_params, execution_options)\u001b[0m\n\u001b[1;32m    514\u001b[0m     \u001b[38;5;28;01mif\u001b[39;00m TYPE_CHECKING:\n\u001b[1;32m    515\u001b[0m         \u001b[38;5;28;01massert\u001b[39;00m \u001b[38;5;28misinstance\u001b[39m(\u001b[38;5;28mself\u001b[39m, Executable)\n\u001b[0;32m--> 516\u001b[0m     \u001b[38;5;28;01mreturn\u001b[39;00m \u001b[43mconnection\u001b[49m\u001b[38;5;241;43m.\u001b[39;49m\u001b[43m_execute_clauseelement\u001b[49m\u001b[43m(\u001b[49m\n\u001b[1;32m    517\u001b[0m \u001b[43m        \u001b[49m\u001b[38;5;28;43mself\u001b[39;49m\u001b[43m,\u001b[49m\u001b[43m \u001b[49m\u001b[43mdistilled_params\u001b[49m\u001b[43m,\u001b[49m\u001b[43m \u001b[49m\u001b[43mexecution_options\u001b[49m\n\u001b[1;32m    518\u001b[0m \u001b[43m    \u001b[49m\u001b[43m)\u001b[49m\n\u001b[1;32m    519\u001b[0m \u001b[38;5;28;01melse\u001b[39;00m:\n\u001b[1;32m    520\u001b[0m     \u001b[38;5;28;01mraise\u001b[39;00m exc\u001b[38;5;241m.\u001b[39mObjectNotExecutableError(\u001b[38;5;28mself\u001b[39m)\n",
      "File \u001b[0;32m~/anaconda3/envs/tenx_week1/lib/python3.12/site-packages/sqlalchemy/engine/base.py:1639\u001b[0m, in \u001b[0;36mConnection._execute_clauseelement\u001b[0;34m(self, elem, distilled_parameters, execution_options)\u001b[0m\n\u001b[1;32m   1627\u001b[0m compiled_cache: Optional[CompiledCacheType] \u001b[38;5;241m=\u001b[39m execution_options\u001b[38;5;241m.\u001b[39mget(\n\u001b[1;32m   1628\u001b[0m     \u001b[38;5;124m\"\u001b[39m\u001b[38;5;124mcompiled_cache\u001b[39m\u001b[38;5;124m\"\u001b[39m, \u001b[38;5;28mself\u001b[39m\u001b[38;5;241m.\u001b[39mengine\u001b[38;5;241m.\u001b[39m_compiled_cache\n\u001b[1;32m   1629\u001b[0m )\n\u001b[1;32m   1631\u001b[0m compiled_sql, extracted_params, cache_hit \u001b[38;5;241m=\u001b[39m elem\u001b[38;5;241m.\u001b[39m_compile_w_cache(\n\u001b[1;32m   1632\u001b[0m     dialect\u001b[38;5;241m=\u001b[39mdialect,\n\u001b[1;32m   1633\u001b[0m     compiled_cache\u001b[38;5;241m=\u001b[39mcompiled_cache,\n\u001b[0;32m   (...)\u001b[0m\n\u001b[1;32m   1637\u001b[0m     linting\u001b[38;5;241m=\u001b[39m\u001b[38;5;28mself\u001b[39m\u001b[38;5;241m.\u001b[39mdialect\u001b[38;5;241m.\u001b[39mcompiler_linting \u001b[38;5;241m|\u001b[39m compiler\u001b[38;5;241m.\u001b[39mWARN_LINTING,\n\u001b[1;32m   1638\u001b[0m )\n\u001b[0;32m-> 1639\u001b[0m ret \u001b[38;5;241m=\u001b[39m \u001b[38;5;28;43mself\u001b[39;49m\u001b[38;5;241;43m.\u001b[39;49m\u001b[43m_execute_context\u001b[49m\u001b[43m(\u001b[49m\n\u001b[1;32m   1640\u001b[0m \u001b[43m    \u001b[49m\u001b[43mdialect\u001b[49m\u001b[43m,\u001b[49m\n\u001b[1;32m   1641\u001b[0m \u001b[43m    \u001b[49m\u001b[43mdialect\u001b[49m\u001b[38;5;241;43m.\u001b[39;49m\u001b[43mexecution_ctx_cls\u001b[49m\u001b[38;5;241;43m.\u001b[39;49m\u001b[43m_init_compiled\u001b[49m\u001b[43m,\u001b[49m\n\u001b[1;32m   1642\u001b[0m \u001b[43m    \u001b[49m\u001b[43mcompiled_sql\u001b[49m\u001b[43m,\u001b[49m\n\u001b[1;32m   1643\u001b[0m \u001b[43m    \u001b[49m\u001b[43mdistilled_parameters\u001b[49m\u001b[43m,\u001b[49m\n\u001b[1;32m   1644\u001b[0m \u001b[43m    \u001b[49m\u001b[43mexecution_options\u001b[49m\u001b[43m,\u001b[49m\n\u001b[1;32m   1645\u001b[0m \u001b[43m    \u001b[49m\u001b[43mcompiled_sql\u001b[49m\u001b[43m,\u001b[49m\n\u001b[1;32m   1646\u001b[0m \u001b[43m    \u001b[49m\u001b[43mdistilled_parameters\u001b[49m\u001b[43m,\u001b[49m\n\u001b[1;32m   1647\u001b[0m \u001b[43m    \u001b[49m\u001b[43melem\u001b[49m\u001b[43m,\u001b[49m\n\u001b[1;32m   1648\u001b[0m \u001b[43m    \u001b[49m\u001b[43mextracted_params\u001b[49m\u001b[43m,\u001b[49m\n\u001b[1;32m   1649\u001b[0m \u001b[43m    \u001b[49m\u001b[43mcache_hit\u001b[49m\u001b[38;5;241;43m=\u001b[39;49m\u001b[43mcache_hit\u001b[49m\u001b[43m,\u001b[49m\n\u001b[1;32m   1650\u001b[0m \u001b[43m\u001b[49m\u001b[43m)\u001b[49m\n\u001b[1;32m   1651\u001b[0m \u001b[38;5;28;01mif\u001b[39;00m has_events:\n\u001b[1;32m   1652\u001b[0m     \u001b[38;5;28mself\u001b[39m\u001b[38;5;241m.\u001b[39mdispatch\u001b[38;5;241m.\u001b[39mafter_execute(\n\u001b[1;32m   1653\u001b[0m         \u001b[38;5;28mself\u001b[39m,\n\u001b[1;32m   1654\u001b[0m         elem,\n\u001b[0;32m   (...)\u001b[0m\n\u001b[1;32m   1658\u001b[0m         ret,\n\u001b[1;32m   1659\u001b[0m     )\n",
      "File \u001b[0;32m~/anaconda3/envs/tenx_week1/lib/python3.12/site-packages/sqlalchemy/engine/base.py:1820\u001b[0m, in \u001b[0;36mConnection._execute_context\u001b[0;34m(self, dialect, constructor, statement, parameters, execution_options, *args, **kw)\u001b[0m\n\u001b[1;32m   1818\u001b[0m     \u001b[38;5;28;01mraise\u001b[39;00m\n\u001b[1;32m   1819\u001b[0m \u001b[38;5;28;01mexcept\u001b[39;00m \u001b[38;5;167;01mBaseException\u001b[39;00m \u001b[38;5;28;01mas\u001b[39;00m e:\n\u001b[0;32m-> 1820\u001b[0m     \u001b[38;5;28;43mself\u001b[39;49m\u001b[38;5;241;43m.\u001b[39;49m\u001b[43m_handle_dbapi_exception\u001b[49m\u001b[43m(\u001b[49m\n\u001b[1;32m   1821\u001b[0m \u001b[43m        \u001b[49m\u001b[43me\u001b[49m\u001b[43m,\u001b[49m\u001b[43m \u001b[49m\u001b[38;5;28;43mstr\u001b[39;49m\u001b[43m(\u001b[49m\u001b[43mstatement\u001b[49m\u001b[43m)\u001b[49m\u001b[43m,\u001b[49m\u001b[43m \u001b[49m\u001b[43mparameters\u001b[49m\u001b[43m,\u001b[49m\u001b[43m \u001b[49m\u001b[38;5;28;43;01mNone\u001b[39;49;00m\u001b[43m,\u001b[49m\u001b[43m \u001b[49m\u001b[38;5;28;43;01mNone\u001b[39;49;00m\n\u001b[1;32m   1822\u001b[0m \u001b[43m    \u001b[49m\u001b[43m)\u001b[49m\n\u001b[1;32m   1824\u001b[0m \u001b[38;5;28;01mif\u001b[39;00m (\n\u001b[1;32m   1825\u001b[0m     \u001b[38;5;28mself\u001b[39m\u001b[38;5;241m.\u001b[39m_transaction\n\u001b[1;32m   1826\u001b[0m     \u001b[38;5;129;01mand\u001b[39;00m \u001b[38;5;129;01mnot\u001b[39;00m \u001b[38;5;28mself\u001b[39m\u001b[38;5;241m.\u001b[39m_transaction\u001b[38;5;241m.\u001b[39mis_active\n\u001b[0;32m   (...)\u001b[0m\n\u001b[1;32m   1830\u001b[0m     )\n\u001b[1;32m   1831\u001b[0m ):\n\u001b[1;32m   1832\u001b[0m     \u001b[38;5;28mself\u001b[39m\u001b[38;5;241m.\u001b[39m_invalid_transaction()\n",
      "File \u001b[0;32m~/anaconda3/envs/tenx_week1/lib/python3.12/site-packages/sqlalchemy/engine/base.py:2346\u001b[0m, in \u001b[0;36mConnection._handle_dbapi_exception\u001b[0;34m(self, e, statement, parameters, cursor, context, is_sub_exec)\u001b[0m\n\u001b[1;32m   2344\u001b[0m     \u001b[38;5;28;01melse\u001b[39;00m:\n\u001b[1;32m   2345\u001b[0m         \u001b[38;5;28;01massert\u001b[39;00m exc_info[\u001b[38;5;241m1\u001b[39m] \u001b[38;5;129;01mis\u001b[39;00m \u001b[38;5;129;01mnot\u001b[39;00m \u001b[38;5;28;01mNone\u001b[39;00m\n\u001b[0;32m-> 2346\u001b[0m         \u001b[38;5;28;01mraise\u001b[39;00m exc_info[\u001b[38;5;241m1\u001b[39m]\u001b[38;5;241m.\u001b[39mwith_traceback(exc_info[\u001b[38;5;241m2\u001b[39m])\n\u001b[1;32m   2347\u001b[0m \u001b[38;5;28;01mfinally\u001b[39;00m:\n\u001b[1;32m   2348\u001b[0m     \u001b[38;5;28;01mdel\u001b[39;00m \u001b[38;5;28mself\u001b[39m\u001b[38;5;241m.\u001b[39m_reentrant_error\n",
      "File \u001b[0;32m~/anaconda3/envs/tenx_week1/lib/python3.12/site-packages/sqlalchemy/engine/base.py:1814\u001b[0m, in \u001b[0;36mConnection._execute_context\u001b[0;34m(self, dialect, constructor, statement, parameters, execution_options, *args, **kw)\u001b[0m\n\u001b[1;32m   1811\u001b[0m     \u001b[38;5;28;01mif\u001b[39;00m conn \u001b[38;5;129;01mis\u001b[39;00m \u001b[38;5;28;01mNone\u001b[39;00m:\n\u001b[1;32m   1812\u001b[0m         conn \u001b[38;5;241m=\u001b[39m \u001b[38;5;28mself\u001b[39m\u001b[38;5;241m.\u001b[39m_revalidate_connection()\n\u001b[0;32m-> 1814\u001b[0m     context \u001b[38;5;241m=\u001b[39m \u001b[43mconstructor\u001b[49m\u001b[43m(\u001b[49m\n\u001b[1;32m   1815\u001b[0m \u001b[43m        \u001b[49m\u001b[43mdialect\u001b[49m\u001b[43m,\u001b[49m\u001b[43m \u001b[49m\u001b[38;5;28;43mself\u001b[39;49m\u001b[43m,\u001b[49m\u001b[43m \u001b[49m\u001b[43mconn\u001b[49m\u001b[43m,\u001b[49m\u001b[43m \u001b[49m\u001b[43mexecution_options\u001b[49m\u001b[43m,\u001b[49m\u001b[43m \u001b[49m\u001b[38;5;241;43m*\u001b[39;49m\u001b[43margs\u001b[49m\u001b[43m,\u001b[49m\u001b[43m \u001b[49m\u001b[38;5;241;43m*\u001b[39;49m\u001b[38;5;241;43m*\u001b[39;49m\u001b[43mkw\u001b[49m\n\u001b[1;32m   1816\u001b[0m \u001b[43m    \u001b[49m\u001b[43m)\u001b[49m\n\u001b[1;32m   1817\u001b[0m \u001b[38;5;28;01mexcept\u001b[39;00m (exc\u001b[38;5;241m.\u001b[39mPendingRollbackError, exc\u001b[38;5;241m.\u001b[39mResourceClosedError):\n\u001b[1;32m   1818\u001b[0m     \u001b[38;5;28;01mraise\u001b[39;00m\n",
      "File \u001b[0;32m~/anaconda3/envs/tenx_week1/lib/python3.12/site-packages/sqlalchemy/engine/default.py:1479\u001b[0m, in \u001b[0;36mDefaultExecutionContext._init_compiled\u001b[0;34m(cls, dialect, connection, dbapi_connection, execution_options, compiled, parameters, invoked_statement, extracted_parameters, cache_hit)\u001b[0m\n\u001b[1;32m   1476\u001b[0m \u001b[38;5;28;01mfor\u001b[39;00m compiled_params \u001b[38;5;129;01min\u001b[39;00m \u001b[38;5;28mself\u001b[39m\u001b[38;5;241m.\u001b[39mcompiled_parameters:\n\u001b[1;32m   1477\u001b[0m     \u001b[38;5;28;01mif\u001b[39;00m escaped_names:\n\u001b[1;32m   1478\u001b[0m         d_param \u001b[38;5;241m=\u001b[39m {\n\u001b[0;32m-> 1479\u001b[0m             escaped_names\u001b[38;5;241m.\u001b[39mget(key, key): flattened_processors[key](\n\u001b[1;32m   1480\u001b[0m                 compiled_params[key]\n\u001b[1;32m   1481\u001b[0m             )\n\u001b[1;32m   1482\u001b[0m             \u001b[38;5;28;01mif\u001b[39;00m key \u001b[38;5;129;01min\u001b[39;00m flattened_processors\n\u001b[1;32m   1483\u001b[0m             \u001b[38;5;28;01melse\u001b[39;00m compiled_params[key]\n\u001b[1;32m   1484\u001b[0m             \u001b[38;5;28;01mfor\u001b[39;00m key \u001b[38;5;129;01min\u001b[39;00m compiled_params\n\u001b[1;32m   1485\u001b[0m         }\n\u001b[1;32m   1486\u001b[0m     \u001b[38;5;28;01melse\u001b[39;00m:\n\u001b[1;32m   1487\u001b[0m         d_param \u001b[38;5;241m=\u001b[39m {\n\u001b[1;32m   1488\u001b[0m             key: flattened_processors[key](compiled_params[key])\n\u001b[1;32m   1489\u001b[0m             \u001b[38;5;28;01mif\u001b[39;00m key \u001b[38;5;129;01min\u001b[39;00m flattened_processors\n\u001b[1;32m   1490\u001b[0m             \u001b[38;5;28;01melse\u001b[39;00m compiled_params[key]\n\u001b[1;32m   1491\u001b[0m             \u001b[38;5;28;01mfor\u001b[39;00m key \u001b[38;5;129;01min\u001b[39;00m compiled_params\n\u001b[1;32m   1492\u001b[0m         }\n",
      "\u001b[0;31mKeyboardInterrupt\u001b[0m: "
     ]
    }
   ],
   "source": [
    "\n",
    "populate_dataframe_to_database(connection_params, df, table_name)"
   ]
  },
  {
   "cell_type": "markdown",
   "metadata": {},
   "source": [
    "### Save the dataframe as csv file"
   ]
  },
  {
   "cell_type": "code",
   "execution_count": null,
   "metadata": {},
   "outputs": [],
   "source": [
    "df.to_csv('../data/tellco_data.csv')"
   ]
  },
  {
   "cell_type": "markdown",
   "metadata": {},
   "source": [
    "## Save cleaned data to database"
   ]
  },
  {
   "cell_type": "code",
   "execution_count": null,
   "metadata": {},
   "outputs": [
    {
     "name": "stdout",
     "output_type": "stream",
     "text": [
      "   Unnamed: 0     bearer_id                start  start_ms  \\\n",
      "0           0  1.311448e+19  2019-04-04 12:01:00     770.0   \n",
      "1           1  1.311448e+19  2019-04-09 13:04:00     235.0   \n",
      "2           2  1.311448e+19  2019-04-09 17:42:00       1.0   \n",
      "3           3  1.311448e+19  2019-04-10 00:31:00     486.0   \n",
      "4           4  1.311448e+19  2019-04-12 20:10:00     565.0   \n",
      "\n",
      "                   end  end_ms     dur_ms          imsi  msisdn_number  \\\n",
      "0  2019-04-25 14:35:00   662.0  244908.75  2.082014e+14   3.366496e+10   \n",
      "1  2019-04-25 08:15:00   606.0  244908.75  2.082019e+14   3.368185e+10   \n",
      "2  2019-04-25 11:58:00   652.0  244908.75  2.082008e+14   3.373458e+10   \n",
      "3  2019-04-25 07:36:00   171.0  244908.75  2.082014e+14   3.373458e+10   \n",
      "4  2019-04-25 10:40:00   954.0  244908.75  2.082014e+14   3.369980e+10   \n",
      "\n",
      "           imei  ... google_total_bytes  email_total_bytes  \\\n",
      "0  3.552121e+13  ...          2905912.0          3701304.0   \n",
      "1  3.579401e+13  ...          4414096.0           937385.0   \n",
      "2  3.528151e+13  ...         10229119.0          3363124.0   \n",
      "3  3.535661e+13  ...         11811761.0          2070983.0   \n",
      "4  3.540701e+13  ...          7748843.0          2110349.0   \n",
      "\n",
      "   youtube_total_bytes  netflix_total_bytes  gaming_total_bytes  \\\n",
      "0           18355943.0           17855187.0         292426453.0   \n",
      "1           39359124.0           35565545.0         609920783.0   \n",
      "2           34425237.0           23751202.0         229980251.0   \n",
      "3           36534765.0           15092588.0         810387875.0   \n",
      "4           34222253.0           17539799.0         531237049.0   \n",
      "\n",
      "   other_total_bytes  total_data_bytes  total_avg_bearer_tp_kbps  \\\n",
      "0        180558843.0       345629377.0                      67.0   \n",
      "1        541959383.0       707185356.0                      42.0   \n",
      "2        414908351.0       307690973.0                      15.0   \n",
      "3        761837216.0       889352748.0                      88.0   \n",
      "4        564619822.0       607681403.0                      15.0   \n",
      "\n",
      "   total_tcp_dl_retrans_vol_bytes  total_avg_rtt_dl_ms  \n",
      "0                     7843913.125                 47.0  \n",
      "1                     7843913.125                 70.0  \n",
      "2                     7843913.125                 70.0  \n",
      "3                     7843913.125                 70.0  \n",
      "4                     7843913.125                 70.0  \n",
      "\n",
      "[5 rows x 59 columns]\n"
     ]
    }
   ],
   "source": [
    "cleaned_df = pd.read_csv('../data/cleaned_tellco_data.csv')\n",
    "print(cleaned_df.head())"
   ]
  },
  {
   "cell_type": "code",
   "execution_count": null,
   "metadata": {},
   "outputs": [
    {
     "data": {
      "text/plain": [
       "Unnamed: 0                          int64\n",
       "bearer_id                         float64\n",
       "start                              object\n",
       "start_ms                          float64\n",
       "end                                object\n",
       "end_ms                            float64\n",
       "dur_ms                            float64\n",
       "imsi                              float64\n",
       "msisdn_number                     float64\n",
       "imei                              float64\n",
       "last_location_name                 object\n",
       "avg_rtt_dl_ms                     float64\n",
       "avg_rtt_ul_ms                     float64\n",
       "avg_bearer_tp_dl_kbps             float64\n",
       "avg_bearer_tp_ul_kbps             float64\n",
       "tcp_dl_retrans_vol_bytes          float64\n",
       "tcp_ul_retrans_vol_bytes          float64\n",
       "dl_tp_<_50_kbps_pct               float64\n",
       "50_kbps_<_dl_tp_<_250_kbps_pct    float64\n",
       "250_kbps_<_dl_tp_<_1_mbps_pct     float64\n",
       "dl_tp_>_1_mbps_pct                float64\n",
       "ul_tp_<_10_kbps_pct               float64\n",
       "10_kbps_<_ul_tp_<_50_kbps_pct     float64\n",
       "50_kbps_<_ul_tp_<_300_kbps_pct    float64\n",
       "ul_tp_>_300_kbps_pct              float64\n",
       "activity_duration_dl_ms           float64\n",
       "activity_duration_ul_ms           float64\n",
       "dur_ms_1                          float64\n",
       "handset_manufacturer               object\n",
       "handset_type                       object\n",
       "nb_of_sec_with_vol_dl_<_6250b     float64\n",
       "nb_of_sec_with_vol_ul_<_1250b     float64\n",
       "social_media_dl_bytes             float64\n",
       "social_media_ul_bytes             float64\n",
       "google_dl_bytes                   float64\n",
       "google_ul_bytes                   float64\n",
       "email_dl_bytes                    float64\n",
       "email_ul_bytes                    float64\n",
       "youtube_dl_bytes                  float64\n",
       "youtube_ul_bytes                  float64\n",
       "netflix_dl_bytes                  float64\n",
       "netflix_ul_bytes                  float64\n",
       "gaming_dl_bytes                   float64\n",
       "gaming_ul_bytes                   float64\n",
       "other_dl_bytes                    float64\n",
       "other_ul_bytes                    float64\n",
       "total_ul_bytes                    float64\n",
       "total_dl_bytes                    float64\n",
       "social_media_total_bytes          float64\n",
       "google_total_bytes                float64\n",
       "email_total_bytes                 float64\n",
       "youtube_total_bytes               float64\n",
       "netflix_total_bytes               float64\n",
       "gaming_total_bytes                float64\n",
       "other_total_bytes                 float64\n",
       "total_data_bytes                  float64\n",
       "total_avg_bearer_tp_kbps          float64\n",
       "total_tcp_dl_retrans_vol_bytes    float64\n",
       "total_avg_rtt_dl_ms               float64\n",
       "dtype: object"
      ]
     },
     "execution_count": 4,
     "metadata": {},
     "output_type": "execute_result"
    }
   ],
   "source": [
    "cleaned_df.dtypes"
   ]
  },
  {
   "cell_type": "code",
   "execution_count": null,
   "metadata": {},
   "outputs": [],
   "source": [
    "\n",
    "cleaned_table_name = \"public.xdr_data_cleaned\"\n",
    "\n",
    "create_cleaned_table_query =  '''CREATE TABLE public.xdr_data_cleaned (\n",
    "    \"bearer_id\" DOUBLE PRECISION,\n",
    "    \"start\" DOUBLE PRECISION,\n",
    "    \"start_ms\" DOUBLE PRECISION,\n",
    "    \"end\" DOUBLE PRECISION,\n",
    "    \"end_ms\" DOUBLE PRECISION,\n",
    "    \"dur_ms\" DOUBLE PRECISION,\n",
    "    \"imsi\" DOUBLE PRECISION,\n",
    "    \"msisdn_number\" DOUBLE PRECISION,\n",
    "    \"imei\" DOUBLE PRECISION,\n",
    "    \"last_location_name\" text,\n",
    "    \"avg_rtt_dl_ms\" DOUBLE PRECISION,\n",
    "    \"avg_rtt_ul_ms\" DOUBLE PRECISION,\n",
    "    \"avg_bearer_tp_dl_kbps\" DOUBLE PRECISION,\n",
    "    \"avg_bearer_tp_ul_kbps\" DOUBLE PRECISION,\n",
    "    \"dl_tp_<_50_kbps_pct\" DOUBLE PRECISION,\n",
    "    \"50_kbps_<_dl_tp_<_250_kbps_pct\" DOUBLE PRECISION,\n",
    "    \"250_kbps_<_dl_tp_<_1_mbps_pct\" DOUBLE PRECISION,\n",
    "    \"dl_tp_>_1_mbps_pct\" DOUBLE PRECISION,\n",
    "    \"ul_tp_<_10_kbps_pct\" DOUBLE PRECISION,\n",
    "    \"10_kbps_<_ul_tp_<_50_kbps_pct\" DOUBLE PRECISION,\n",
    "    \"50_kbps_<_ul_tp_<_300_kbps_pct\" DOUBLE PRECISION,\n",
    "    \"ul_tp_>_300_kbps_pct\" DOUBLE PRECISION,\n",
    "    \"activity_duration_dl_ms\" DOUBLE PRECISION,\n",
    "    \"activity_duration_ul_ms\" DOUBLE PRECISION,\n",
    "    \"dur_ms_1\" DOUBLE PRECISION,\n",
    "    \"handset_manufacturer\" text,\n",
    "    \"handset_type\" text,\n",
    "    \"nb_of_sec_with_vol_dl_<_6250b\" DOUBLE PRECISION,\n",
    "    \"nb_of_sec_with_vol_ul_<_1250b\" DOUBLE PRECISION,\n",
    "    \"social_media_dl_bytes\" DOUBLE PRECISION,\n",
    "    \"social_media_ul_bytes\" DOUBLE PRECISION,\n",
    "    \"google_dl_bytes\" DOUBLE PRECISION,\n",
    "    \"google_ul_bytes\" DOUBLE PRECISION,\n",
    "    \"email_dl_bytes\" DOUBLE PRECISION,\n",
    "    \"email_ul_bytes\" DOUBLE PRECISION,\n",
    "    \"youtube_dl_bytes\" DOUBLE PRECISION,\n",
    "    \"youtube_ul_bytes\" DOUBLE PRECISION,\n",
    "    \"netflix_dl_bytes\" DOUBLE PRECISION,\n",
    "    \"netflix_ul_bytes\" DOUBLE PRECISION,\n",
    "    \"gaming_dl_bytes\" DOUBLE PRECISION,\n",
    "    \"gaming_ul_bytes\" DOUBLE PRECISION,\n",
    "    \"other_dl_bytes\" DOUBLE PRECISION,\n",
    "    \"other_ul_bytes\" DOUBLE PRECISION,\n",
    "    \"total_ul_bytes\" DOUBLE PRECISION,\n",
    "    \"total_dl_bytes\" DOUBLE PRECISION,\n",
    "    \"social_media_total_bytes\" DOUBLE PRECISION,\n",
    "    \"google_total_bytes\" DOUBLE PRECISION,\n",
    "    \"email_total_bytes\" DOUBLE PRECISION,\n",
    "    \"youtube_total_bytes\" DOUBLE PRECISION,\n",
    "    \"netflix_total_bytes\" DOUBLE PRECISION,\n",
    "    \"gaming_total_bytes\" DOUBLE PRECISION,\n",
    "    \"other_total_bytes\" DOUBLE PRECISION,\n",
    "    \"total_data_bytes\" DOUBLE PRECISION,\n",
    "    \"total_avg_bearer_tp_kbps\" DOUBLE PRECISION,\n",
    "    \"total_tcp_dl_retrans_vol_bytes\" DOUBLE PRECISION,\n",
    "    \"total_avg_rtt_dl_ms\" DOUBLE PRECISION\n",
    ");'''\n"
   ]
  },
  {
   "cell_type": "code",
   "execution_count": null,
   "metadata": {},
   "outputs": [
    {
     "name": "stderr",
     "output_type": "stream",
     "text": [
      "2023-12-15 01:25:51,095:logger:Successfully ran SQL query: CREATE TABLE public.xdr_data_cleaned (\n",
      "    \"bearer_id\" DOUBLE PRECISION,\n",
      "    \"start\" DOUBLE PRECISION,\n",
      "    \"start_ms\" DOUBLE PRECISION,\n",
      "    \"end\" DOUBLE PRECISION,\n",
      "    \"end_ms\" DOUBLE PRECISION,\n",
      "    \"dur_ms\" DOUBLE PRECISION,\n",
      "    \"imsi\" DOUBLE PRECISION,\n",
      "    \"msisdn_number\" DOUBLE PRECISION,\n",
      "    \"imei\" DOUBLE PRECISION,\n",
      "    \"last_location_name\" text,\n",
      "    \"avg_rtt_dl_ms\" DOUBLE PRECISION,\n",
      "    \"avg_rtt_ul_ms\" DOUBLE PRECISION,\n",
      "    \"avg_bearer_tp_dl_kbps\" DOUBLE PRECISION,\n",
      "    \"avg_bearer_tp_ul_kbps\" DOUBLE PRECISION,\n",
      "    \"dl_tp_<_50_kbps_pct\" DOUBLE PRECISION,\n",
      "    \"50_kbps_<_dl_tp_<_250_kbps_pct\" DOUBLE PRECISION,\n",
      "    \"250_kbps_<_dl_tp_<_1_mbps_pct\" DOUBLE PRECISION,\n",
      "    \"dl_tp_>_1_mbps_pct\" DOUBLE PRECISION,\n",
      "    \"ul_tp_<_10_kbps_pct\" DOUBLE PRECISION,\n",
      "    \"10_kbps_<_ul_tp_<_50_kbps_pct\" DOUBLE PRECISION,\n",
      "    \"50_kbps_<_ul_tp_<_300_kbps_pct\" DOUBLE PRECISION,\n",
      "    \"ul_tp_>_300_kbps_pct\" DOUBLE PRECISION,\n",
      "    \"activity_duration_dl_ms\" DOUBLE PRECISION,\n",
      "    \"activity_duration_ul_ms\" DOUBLE PRECISION,\n",
      "    \"dur_ms_1\" DOUBLE PRECISION,\n",
      "    \"handset_manufacturer\" text,\n",
      "    \"handset_type\" text,\n",
      "    \"nb_of_sec_with_vol_dl_<_6250b\" DOUBLE PRECISION,\n",
      "    \"nb_of_sec_with_vol_ul_<_1250b\" DOUBLE PRECISION,\n",
      "    \"social_media_dl_bytes\" DOUBLE PRECISION,\n",
      "    \"social_media_ul_bytes\" DOUBLE PRECISION,\n",
      "    \"google_dl_bytes\" DOUBLE PRECISION,\n",
      "    \"google_ul_bytes\" DOUBLE PRECISION,\n",
      "    \"email_dl_bytes\" DOUBLE PRECISION,\n",
      "    \"email_ul_bytes\" DOUBLE PRECISION,\n",
      "    \"youtube_dl_bytes\" DOUBLE PRECISION,\n",
      "    \"youtube_ul_bytes\" DOUBLE PRECISION,\n",
      "    \"netflix_dl_bytes\" DOUBLE PRECISION,\n",
      "    \"netflix_ul_bytes\" DOUBLE PRECISION,\n",
      "    \"gaming_dl_bytes\" DOUBLE PRECISION,\n",
      "    \"gaming_ul_bytes\" DOUBLE PRECISION,\n",
      "    \"other_dl_bytes\" DOUBLE PRECISION,\n",
      "    \"other_ul_bytes\" DOUBLE PRECISION,\n",
      "    \"total_ul_bytes\" DOUBLE PRECISION,\n",
      "    \"total_dl_bytes\" DOUBLE PRECISION,\n",
      "    \"social_media_total_bytes\" DOUBLE PRECISION,\n",
      "    \"google_total_bytes\" DOUBLE PRECISION,\n",
      "    \"email_total_bytes\" DOUBLE PRECISION,\n",
      "    \"youtube_total_bytes\" DOUBLE PRECISION,\n",
      "    \"netflix_total_bytes\" DOUBLE PRECISION,\n",
      "    \"gaming_total_bytes\" DOUBLE PRECISION,\n",
      "    \"other_total_bytes\" DOUBLE PRECISION,\n",
      "    \"total_data_bytes\" DOUBLE PRECISION,\n",
      "    \"total_avg_bearer_tp_kbps\" DOUBLE PRECISION,\n",
      "    \"total_tcp_dl_retrans_vol_bytes\" DOUBLE PRECISION,\n",
      "    \"total_avg_rtt_dl_ms\" DOUBLE PRECISION\n",
      ");\n"
     ]
    }
   ],
   "source": [
    "run_sql_query(connection_params, create_cleaned_table_query)"
   ]
  },
  {
   "cell_type": "code",
   "execution_count": null,
   "metadata": {},
   "outputs": [
    {
     "name": "stderr",
     "output_type": "stream",
     "text": [
      "2023-12-15 01:25:54,372:logger:Successfully connected to the database.\n",
      "2023-12-15 01:26:48,686:logger:Inserted 150002 rows into the database table public.xdr_data_cleaned.\n",
      "2023-12-15 01:26:48,691:logger:Database connection closed.\n"
     ]
    }
   ],
   "source": [
    "populate_dataframe_to_database(connection_params, cleaned_df, cleaned_table_name)"
   ]
  }
 ],
 "metadata": {
  "kernelspec": {
   "display_name": "tenx_week1",
   "language": "python",
   "name": "python3"
  },
  "language_info": {
   "codemirror_mode": {
    "name": "ipython",
    "version": 3
   },
   "file_extension": ".py",
   "mimetype": "text/x-python",
   "name": "python",
   "nbconvert_exporter": "python",
   "pygments_lexer": "ipython3",
   "version": "3.12.0"
  }
 },
 "nbformat": 4,
 "nbformat_minor": 2
}
