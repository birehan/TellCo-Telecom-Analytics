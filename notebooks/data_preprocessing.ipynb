{
 "cells": [
  {
   "cell_type": "markdown",
   "metadata": {},
   "source": [
    "## Tellco Telecom Data PreProcessing\n",
    "- Load the data from sql dumped file\n",
    "- Understand the Data\n",
    "- Handle Missing Values\n",
    "- Deal with Duplicate Data\n",
    "- Address Outliers\n",
    "- Save Processed Data"
   ]
  },
  {
   "cell_type": "markdown",
   "metadata": {},
   "source": [
    "### Import necessary packages"
   ]
  },
  {
   "cell_type": "code",
   "execution_count": 1,
   "metadata": {},
   "outputs": [],
   "source": [
    "import pandas as pd\n",
    "import os\n",
    "import sys"
   ]
  },
  {
   "cell_type": "code",
   "execution_count": 2,
   "metadata": {},
   "outputs": [],
   "source": [
    "sys.path.append(os.path.abspath(os.path.join('../src')))"
   ]
  },
  {
   "cell_type": "code",
   "execution_count": 3,
   "metadata": {},
   "outputs": [],
   "source": [
    "\n",
    "from data_loader import load_data, load_sql_to_dataframe\n",
    "from data_cleaning_utils import DataCleaningUtil\n",
    "\n",
    "cleaning_utils = DataCleaningUtil()"
   ]
  },
  {
   "cell_type": "markdown",
   "metadata": {},
   "source": [
    "### Load The data from database or else from csv file"
   ]
  },
  {
   "cell_type": "code",
   "execution_count": 4,
   "metadata": {},
   "outputs": [
    {
     "name": "stderr",
     "output_type": "stream",
     "text": [
      "2023-12-13 16:14:25,939:logger:Successfully fetched data from the database.\n",
      "2023-12-13 16:14:25,962:logger:Database connection closed.\n"
     ]
    },
    {
     "name": "stdout",
     "output_type": "stream",
     "text": [
      "           (\"Bearer Id\"          \"Start\" \"Start ms\"            \"End\" \"End ms\"  \\\n",
      "0  1.31144834608449e+19   4/4/2019 12:01        770  4/25/2019 14:35      662   \n",
      "1  1.31144834828789e+19   4/9/2019 13:04        235   4/25/2019 8:15      606   \n",
      "2  1.31144834840805e+19   4/9/2019 17:42          1  4/25/2019 11:58      652   \n",
      "3  1.31144834854428e+19   4/10/2019 0:31        486   4/25/2019 7:36      171   \n",
      "4  1.31144834994807e+19  4/12/2019 20:10        565  4/25/2019 10:40      954   \n",
      "\n",
      "  \"Dur. (ms)\"           \"IMSI\" \"MSISDN/Number\"          \"IMEI\"  \\\n",
      "0     1823652  208201448079117     33664962239  35521209507511   \n",
      "1     1365104  208201909211140     33681854413  35794009006359   \n",
      "2     1361762  208200314458056     33760627129  35281510359387   \n",
      "3     1321509  208201402342131     33750343200  35356610164913   \n",
      "4     1089009  208201401415120     33699795932  35407009745539   \n",
      "\n",
      "    \"Last Location Name\"  ... \"Youtube DL (Bytes)\" \"Youtube UL (Bytes)\"  \\\n",
      "0  9.16456699548519E+015  ...           15854611.0            2501332.0   \n",
      "1                L77566A  ...           20247395.0           19111729.0   \n",
      "2                D42335A  ...           19725661.0           14699576.0   \n",
      "3                T21824A  ...           21388122.0           15146643.0   \n",
      "4                D88865A  ...           15259380.0           18962873.0   \n",
      "\n",
      "  \"Netflix DL (Bytes)\" \"Netflix UL (Bytes)\" \"Gaming DL (Bytes)\"  \\\n",
      "0            8198936.0            9656251.0         278082303.0   \n",
      "1           18338413.0           17227132.0         608750074.0   \n",
      "2           17587794.0            6163408.0         229584621.0   \n",
      "3           13994646.0            1097942.0         799538153.0   \n",
      "4           17124581.0             415218.0         527707248.0   \n",
      "\n",
      "  \"Gaming UL (Bytes)\" \"Other DL (Bytes)\" \"Other UL (Bytes)\"  \\\n",
      "0          14344150.0        171744450.0          8814393.0   \n",
      "1           1170709.0        526904238.0         15055145.0   \n",
      "2            395630.0        410692588.0          4215763.0   \n",
      "3          10849722.0        749039933.0         12797283.0   \n",
      "4           3529801.0        550709500.0         13910322.0   \n",
      "\n",
      "  \"Total UL (Bytes)\" \"Total DL (Bytes)\")  \n",
      "0           36749741           308879636  \n",
      "1           53800391           653384965  \n",
      "2           27883638           279807335  \n",
      "3           43324218           846028530  \n",
      "4           38542814           569138589  \n",
      "\n",
      "[5 rows x 55 columns]\n"
     ]
    }
   ],
   "source": [
    "# Connection parameters\n",
    "connection_params = {\n",
    "    \"host\": \"localhost\",\n",
    "    \"user\": \"birehan\",\n",
    "    \"password\": \"password\",\n",
    "    \"port\": \"5432\",\n",
    "    \"database\": \"tellco_db\"  # Change to your desired database name\n",
    "}\n",
    "table_name = \"public.xdr_data\"\n",
    "file_path = \"../data/tellco_data.csv\"\n",
    "\n",
    "df = load_data(connection_params, table_name, file_path)\n",
    "print(df.head())"
   ]
  },
  {
   "cell_type": "code",
   "execution_count": 5,
   "metadata": {},
   "outputs": [
    {
     "data": {
      "text/plain": [
       "Index(['(\"Bearer Id\"', '\"Start\"', '\"Start ms\"', '\"End\"', '\"End ms\"',\n",
       "       '\"Dur. (ms)\"', '\"IMSI\"', '\"MSISDN/Number\"', '\"IMEI\"',\n",
       "       '\"Last Location Name\"', '\"Avg RTT DL (ms)\"', '\"Avg RTT UL (ms)\"',\n",
       "       '\"Avg Bearer TP DL (kbps)\"', '\"Avg Bearer TP UL (kbps)\"',\n",
       "       '\"TCP DL Retrans. Vol (Bytes)\"', '\"TCP UL Retrans. Vol (Bytes)\"',\n",
       "       '\"DL TP < 50 Kbps (%)\"', '\"50 Kbps < DL TP < 250 Kbps (%)\"',\n",
       "       '\"250 Kbps < DL TP < 1 Mbps (%)\"', '\"DL TP > 1 Mbps (%)\"',\n",
       "       '\"UL TP < 10 Kbps (%)\"', '\"10 Kbps < UL TP < 50 Kbps (%)\"',\n",
       "       '\"50 Kbps < UL TP < 300 Kbps (%)\"', '\"UL TP > 300 Kbps (%)\"',\n",
       "       '\"HTTP DL (Bytes)\"', '\"HTTP UL (Bytes)\"', '\"Activity Duration DL (ms)\"',\n",
       "       '\"Activity Duration UL (ms)\"', '\"Dur. (ms).1\"',\n",
       "       '\"Handset Manufacturer\"', '\"Handset Type\"',\n",
       "       '\"Nb of sec with 125000B < Vol DL\"',\n",
       "       '\"Nb of sec with 1250B < Vol UL < 6250B\"',\n",
       "       '\"Nb of sec with 31250B < Vol DL < 125000B\"',\n",
       "       '\"Nb of sec with 37500B < Vol UL\"',\n",
       "       '\"Nb of sec with 6250B < Vol DL < 31250B\"',\n",
       "       '\"Nb of sec with 6250B < Vol UL < 37500B\"',\n",
       "       '\"Nb of sec with Vol DL < 6250B\"', '\"Nb of sec with Vol UL < 1250B\"',\n",
       "       '\"Social Media DL (Bytes)\"', '\"Social Media UL (Bytes)\"',\n",
       "       '\"Google DL (Bytes)\"', '\"Google UL (Bytes)\"', '\"Email DL (Bytes)\"',\n",
       "       '\"Email UL (Bytes)\"', '\"Youtube DL (Bytes)\"', '\"Youtube UL (Bytes)\"',\n",
       "       '\"Netflix DL (Bytes)\"', '\"Netflix UL (Bytes)\"', '\"Gaming DL (Bytes)\"',\n",
       "       '\"Gaming UL (Bytes)\"', '\"Other DL (Bytes)\"', '\"Other UL (Bytes)\"',\n",
       "       '\"Total UL (Bytes)\"', '\"Total DL (Bytes)\")'],\n",
       "      dtype='object')"
      ]
     },
     "execution_count": 5,
     "metadata": {},
     "output_type": "execute_result"
    }
   ],
   "source": [
    "df.columns"
   ]
  },
  {
   "cell_type": "code",
   "execution_count": 6,
   "metadata": {},
   "outputs": [
    {
     "name": "stdout",
     "output_type": "stream",
     "text": [
      "<class 'pandas.core.frame.DataFrame'>\n",
      "RangeIndex: 150005 entries, 0 to 150004\n",
      "Data columns (total 55 columns):\n",
      " #   Column                                      Non-Null Count   Dtype  \n",
      "---  ------                                      --------------   -----  \n",
      " 0   (\"Bearer Id\"                                150005 non-null  object \n",
      " 1   \"Start\"                                     150001 non-null  object \n",
      " 2   \"Start ms\"                                  150001 non-null  object \n",
      " 3   \"End\"                                       150001 non-null  object \n",
      " 4   \"End ms\"                                    150001 non-null  object \n",
      " 5   \"Dur. (ms)\"                                 150001 non-null  object \n",
      " 6   \"IMSI\"                                      150001 non-null  object \n",
      " 7   \"MSISDN/Number\"                             150001 non-null  object \n",
      " 8   \"IMEI\"                                      150001 non-null  object \n",
      " 9   \"Last Location Name\"                        150001 non-null  object \n",
      " 10  \"Avg RTT DL (ms)\"                           150001 non-null  object \n",
      " 11  \"Avg RTT UL (ms)\"                           150001 non-null  object \n",
      " 12  \"Avg Bearer TP DL (kbps)\"                   150001 non-null  object \n",
      " 13  \"Avg Bearer TP UL (kbps)\"                   150001 non-null  object \n",
      " 14  \"TCP DL Retrans. Vol (Bytes)\"               150001 non-null  object \n",
      " 15  \"TCP UL Retrans. Vol (Bytes)\"               150001 non-null  object \n",
      " 16  \"DL TP < 50 Kbps (%)\"                       150001 non-null  object \n",
      " 17  \"50 Kbps < DL TP < 250 Kbps (%)\"            150001 non-null  object \n",
      " 18  \"250 Kbps < DL TP < 1 Mbps (%)\"             150001 non-null  object \n",
      " 19  \"DL TP > 1 Mbps (%)\"                        150001 non-null  object \n",
      " 20  \"UL TP < 10 Kbps (%)\"                       150001 non-null  object \n",
      " 21  \"10 Kbps < UL TP < 50 Kbps (%)\"             150001 non-null  object \n",
      " 22  \"50 Kbps < UL TP < 300 Kbps (%)\"            150001 non-null  object \n",
      " 23  \"UL TP > 300 Kbps (%)\"                      150001 non-null  object \n",
      " 24  \"HTTP DL (Bytes)\"                           150001 non-null  object \n",
      " 25  \"HTTP UL (Bytes)\"                           150001 non-null  object \n",
      " 26  \"Activity Duration DL (ms)\"                 150001 non-null  object \n",
      " 27  \"Activity Duration UL (ms)\"                 150001 non-null  object \n",
      " 28  \"Dur. (ms).1\"                               150001 non-null  object \n",
      " 29  \"Handset Manufacturer\"                      150001 non-null  object \n",
      " 30  \"Handset Type\"                              150001 non-null  object \n",
      " 31  \"Nb of sec with 125000B < Vol DL\"           150001 non-null  object \n",
      " 32  \"Nb of sec with 1250B < Vol UL < 6250B\"     150001 non-null  object \n",
      " 33  \"Nb of sec with 31250B < Vol DL < 125000B\"  150001 non-null  object \n",
      " 34  \"Nb of sec with 37500B < Vol UL\"            150001 non-null  object \n",
      " 35  \"Nb of sec with 6250B < Vol DL < 31250B\"    150001 non-null  object \n",
      " 36  \"Nb of sec with 6250B < Vol UL < 37500B\"    150001 non-null  object \n",
      " 37  \"Nb of sec with Vol DL < 6250B\"             150001 non-null  object \n",
      " 38  \"Nb of sec with Vol UL < 1250B\"             150001 non-null  object \n",
      " 39  \"Social Media DL (Bytes)\"                   150001 non-null  float64\n",
      " 40  \"Social Media UL (Bytes)\"                   150001 non-null  float64\n",
      " 41  \"Google DL (Bytes)\"                         150001 non-null  float64\n",
      " 42  \"Google UL (Bytes)\"                         150001 non-null  float64\n",
      " 43  \"Email DL (Bytes)\"                          150001 non-null  float64\n",
      " 44  \"Email UL (Bytes)\"                          150001 non-null  float64\n",
      " 45  \"Youtube DL (Bytes)\"                        150001 non-null  float64\n",
      " 46  \"Youtube UL (Bytes)\"                        150001 non-null  float64\n",
      " 47  \"Netflix DL (Bytes)\"                        150001 non-null  float64\n",
      " 48  \"Netflix UL (Bytes)\"                        150001 non-null  float64\n",
      " 49  \"Gaming DL (Bytes)\"                         150001 non-null  float64\n",
      " 50  \"Gaming UL (Bytes)\"                         150001 non-null  float64\n",
      " 51  \"Other DL (Bytes)\"                          150001 non-null  float64\n",
      " 52  \"Other UL (Bytes)\"                          150001 non-null  float64\n",
      " 53  \"Total UL (Bytes)\"                          150001 non-null  object \n",
      " 54  \"Total DL (Bytes)\")                         150001 non-null  object \n",
      "dtypes: float64(14), object(41)\n",
      "memory usage: 62.9+ MB\n"
     ]
    }
   ],
   "source": [
    "df.info()"
   ]
  },
  {
   "cell_type": "code",
   "execution_count": 7,
   "metadata": {},
   "outputs": [
    {
     "data": {
      "text/plain": [
       "(150005, 55)"
      ]
     },
     "execution_count": 7,
     "metadata": {},
     "output_type": "execute_result"
    }
   ],
   "source": [
    "df.shape"
   ]
  },
  {
   "cell_type": "markdown",
   "metadata": {},
   "source": [
    "### Understand the Data\n",
    "- Identify the data types (numeric, categorical, text, etc.) of each feature."
   ]
  },
  {
   "cell_type": "code",
   "execution_count": 8,
   "metadata": {},
   "outputs": [
    {
     "data": {
      "text/plain": [
       "Index(['(\"Bearer Id\"', '\"Start\"', '\"Start ms\"', '\"End\"', '\"End ms\"',\n",
       "       '\"Dur. (ms)\"', '\"IMSI\"', '\"MSISDN/Number\"', '\"IMEI\"',\n",
       "       '\"Last Location Name\"', '\"Avg RTT DL (ms)\"', '\"Avg RTT UL (ms)\"',\n",
       "       '\"Avg Bearer TP DL (kbps)\"', '\"Avg Bearer TP UL (kbps)\"',\n",
       "       '\"TCP DL Retrans. Vol (Bytes)\"', '\"TCP UL Retrans. Vol (Bytes)\"',\n",
       "       '\"DL TP < 50 Kbps (%)\"', '\"50 Kbps < DL TP < 250 Kbps (%)\"',\n",
       "       '\"250 Kbps < DL TP < 1 Mbps (%)\"', '\"DL TP > 1 Mbps (%)\"',\n",
       "       '\"UL TP < 10 Kbps (%)\"', '\"10 Kbps < UL TP < 50 Kbps (%)\"',\n",
       "       '\"50 Kbps < UL TP < 300 Kbps (%)\"', '\"UL TP > 300 Kbps (%)\"',\n",
       "       '\"HTTP DL (Bytes)\"', '\"HTTP UL (Bytes)\"', '\"Activity Duration DL (ms)\"',\n",
       "       '\"Activity Duration UL (ms)\"', '\"Dur. (ms).1\"',\n",
       "       '\"Handset Manufacturer\"', '\"Handset Type\"',\n",
       "       '\"Nb of sec with 125000B < Vol DL\"',\n",
       "       '\"Nb of sec with 1250B < Vol UL < 6250B\"',\n",
       "       '\"Nb of sec with 31250B < Vol DL < 125000B\"',\n",
       "       '\"Nb of sec with 37500B < Vol UL\"',\n",
       "       '\"Nb of sec with 6250B < Vol DL < 31250B\"',\n",
       "       '\"Nb of sec with 6250B < Vol UL < 37500B\"',\n",
       "       '\"Nb of sec with Vol DL < 6250B\"', '\"Nb of sec with Vol UL < 1250B\"',\n",
       "       '\"Social Media DL (Bytes)\"', '\"Social Media UL (Bytes)\"',\n",
       "       '\"Google DL (Bytes)\"', '\"Google UL (Bytes)\"', '\"Email DL (Bytes)\"',\n",
       "       '\"Email UL (Bytes)\"', '\"Youtube DL (Bytes)\"', '\"Youtube UL (Bytes)\"',\n",
       "       '\"Netflix DL (Bytes)\"', '\"Netflix UL (Bytes)\"', '\"Gaming DL (Bytes)\"',\n",
       "       '\"Gaming UL (Bytes)\"', '\"Other DL (Bytes)\"', '\"Other UL (Bytes)\"',\n",
       "       '\"Total UL (Bytes)\"', '\"Total DL (Bytes)\")'],\n",
       "      dtype='object')"
      ]
     },
     "execution_count": 8,
     "metadata": {},
     "output_type": "execute_result"
    }
   ],
   "source": [
    "df.columns"
   ]
  },
  {
   "cell_type": "code",
   "execution_count": 9,
   "metadata": {},
   "outputs": [
    {
     "name": "stderr",
     "output_type": "stream",
     "text": [
      "/home/babi/Desktop/10academy/TellCo-Telecom-Analytics/src/data_cleaning_utils.py:17: FutureWarning: The default value of regex will change from True to False in a future version. In addition, single character regular expressions will *not* be treated as literal strings when regex=True.\n",
      "  .str.replace('(', '_')\n",
      "/home/babi/Desktop/10academy/TellCo-Telecom-Analytics/src/data_cleaning_utils.py:18: FutureWarning: The default value of regex will change from True to False in a future version. In addition, single character regular expressions will *not* be treated as literal strings when regex=True.\n",
      "  .str.replace(')', '_')\n",
      "/home/babi/Desktop/10academy/TellCo-Telecom-Analytics/src/data_cleaning_utils.py:21: FutureWarning: The default value of regex will change from True to False in a future version.\n",
      "  .str.replace('_+', '_')\n",
      "/home/babi/Desktop/10academy/TellCo-Telecom-Analytics/src/data_cleaning_utils.py:22: FutureWarning: The default value of regex will change from True to False in a future version. In addition, single character regular expressions will *not* be treated as literal strings when regex=True.\n",
      "  .str.replace('.', '')\n",
      "2023-12-13 16:14:27,777:logger:Rename columns to lowercase, replace characters, and remove duplicates and trailing underscores\n"
     ]
    },
    {
     "data": {
      "text/plain": [
       "Index(['bearer_id', 'start', 'start_ms', 'end', 'end_ms', 'dur_ms', 'imsi',\n",
       "       'msisdn_number', 'imei', 'last_location_name', 'avg_rtt_dl_ms',\n",
       "       'avg_rtt_ul_ms', 'avg_bearer_tp_dl_kbps', 'avg_bearer_tp_ul_kbps',\n",
       "       'tcp_dl_retrans_vol_bytes', 'tcp_ul_retrans_vol_bytes',\n",
       "       'dl_tp_<_50_kbps_pct', '50_kbps_<_dl_tp_<_250_kbps_pct',\n",
       "       '250_kbps_<_dl_tp_<_1_mbps_pct', 'dl_tp_>_1_mbps_pct',\n",
       "       'ul_tp_<_10_kbps_pct', '10_kbps_<_ul_tp_<_50_kbps_pct',\n",
       "       '50_kbps_<_ul_tp_<_300_kbps_pct', 'ul_tp_>_300_kbps_pct',\n",
       "       'http_dl_bytes', 'http_ul_bytes', 'activity_duration_dl_ms',\n",
       "       'activity_duration_ul_ms', 'dur_ms_1', 'handset_manufacturer',\n",
       "       'handset_type', 'nb_of_sec_with_125000b_<_vol_dl',\n",
       "       'nb_of_sec_with_1250b_<_vol_ul_<_6250b',\n",
       "       'nb_of_sec_with_31250b_<_vol_dl_<_125000b',\n",
       "       'nb_of_sec_with_37500b_<_vol_ul',\n",
       "       'nb_of_sec_with_6250b_<_vol_dl_<_31250b',\n",
       "       'nb_of_sec_with_6250b_<_vol_ul_<_37500b',\n",
       "       'nb_of_sec_with_vol_dl_<_6250b', 'nb_of_sec_with_vol_ul_<_1250b',\n",
       "       'social_media_dl_bytes', 'social_media_ul_bytes', 'google_dl_bytes',\n",
       "       'google_ul_bytes', 'email_dl_bytes', 'email_ul_bytes',\n",
       "       'youtube_dl_bytes', 'youtube_ul_bytes', 'netflix_dl_bytes',\n",
       "       'netflix_ul_bytes', 'gaming_dl_bytes', 'gaming_ul_bytes',\n",
       "       'other_dl_bytes', 'other_ul_bytes', 'total_ul_bytes', 'total_dl_bytes'],\n",
       "      dtype='object')"
      ]
     },
     "execution_count": 9,
     "metadata": {},
     "output_type": "execute_result"
    }
   ],
   "source": [
    "df = cleaning_utils.clean_columns_name(df)\n",
    "df.columns"
   ]
  },
  {
   "cell_type": "code",
   "execution_count": 10,
   "metadata": {},
   "outputs": [
    {
     "data": {
      "text/plain": [
       "bearer_id                                    object\n",
       "start                                        object\n",
       "start_ms                                     object\n",
       "end                                          object\n",
       "end_ms                                       object\n",
       "dur_ms                                       object\n",
       "imsi                                         object\n",
       "msisdn_number                                object\n",
       "imei                                         object\n",
       "last_location_name                           object\n",
       "avg_rtt_dl_ms                                object\n",
       "avg_rtt_ul_ms                                object\n",
       "avg_bearer_tp_dl_kbps                        object\n",
       "avg_bearer_tp_ul_kbps                        object\n",
       "tcp_dl_retrans_vol_bytes                     object\n",
       "tcp_ul_retrans_vol_bytes                     object\n",
       "dl_tp_<_50_kbps_pct                          object\n",
       "50_kbps_<_dl_tp_<_250_kbps_pct               object\n",
       "250_kbps_<_dl_tp_<_1_mbps_pct                object\n",
       "dl_tp_>_1_mbps_pct                           object\n",
       "ul_tp_<_10_kbps_pct                          object\n",
       "10_kbps_<_ul_tp_<_50_kbps_pct                object\n",
       "50_kbps_<_ul_tp_<_300_kbps_pct               object\n",
       "ul_tp_>_300_kbps_pct                         object\n",
       "http_dl_bytes                                object\n",
       "http_ul_bytes                                object\n",
       "activity_duration_dl_ms                      object\n",
       "activity_duration_ul_ms                      object\n",
       "dur_ms_1                                     object\n",
       "handset_manufacturer                         object\n",
       "handset_type                                 object\n",
       "nb_of_sec_with_125000b_<_vol_dl              object\n",
       "nb_of_sec_with_1250b_<_vol_ul_<_6250b        object\n",
       "nb_of_sec_with_31250b_<_vol_dl_<_125000b     object\n",
       "nb_of_sec_with_37500b_<_vol_ul               object\n",
       "nb_of_sec_with_6250b_<_vol_dl_<_31250b       object\n",
       "nb_of_sec_with_6250b_<_vol_ul_<_37500b       object\n",
       "nb_of_sec_with_vol_dl_<_6250b                object\n",
       "nb_of_sec_with_vol_ul_<_1250b                object\n",
       "social_media_dl_bytes                       float64\n",
       "social_media_ul_bytes                       float64\n",
       "google_dl_bytes                             float64\n",
       "google_ul_bytes                             float64\n",
       "email_dl_bytes                              float64\n",
       "email_ul_bytes                              float64\n",
       "youtube_dl_bytes                            float64\n",
       "youtube_ul_bytes                            float64\n",
       "netflix_dl_bytes                            float64\n",
       "netflix_ul_bytes                            float64\n",
       "gaming_dl_bytes                             float64\n",
       "gaming_ul_bytes                             float64\n",
       "other_dl_bytes                              float64\n",
       "other_ul_bytes                              float64\n",
       "total_ul_bytes                               object\n",
       "total_dl_bytes                               object\n",
       "dtype: object"
      ]
     },
     "execution_count": 10,
     "metadata": {},
     "output_type": "execute_result"
    }
   ],
   "source": [
    "df.dtypes"
   ]
  },
  {
   "cell_type": "code",
   "execution_count": 11,
   "metadata": {},
   "outputs": [
    {
     "name": "stderr",
     "output_type": "stream",
     "text": [
      "2023-12-13 16:14:41,062:logger:Change columns ['bearer_id', 'start_ms', 'end_ms', 'dur_ms', 'imsi', 'msisdn_number', 'imei', 'avg_rtt_dl_ms', 'avg_rtt_ul_ms', 'avg_bearer_tp_dl_kbps', 'avg_bearer_tp_ul_kbps', 'tcp_dl_retrans_vol_bytes', 'tcp_ul_retrans_vol_bytes', 'dl_tp_<_50_kbps_pct', '50_kbps_<_dl_tp_<_250_kbps_pct', '250_kbps_<_dl_tp_<_1_mbps_pct', 'dl_tp_>_1_mbps_pct', 'ul_tp_<_10_kbps_pct', '10_kbps_<_ul_tp_<_50_kbps_pct', '50_kbps_<_ul_tp_<_300_kbps_pct', 'ul_tp_>_300_kbps_pct', 'http_dl_bytes', 'http_ul_bytes', 'activity_duration_dl_ms', 'activity_duration_ul_ms', 'dur_ms_1', 'nb_of_sec_with_125000b_<_vol_dl', 'nb_of_sec_with_1250b_<_vol_ul_<_6250b', 'nb_of_sec_with_31250b_<_vol_dl_<_125000b', 'nb_of_sec_with_37500b_<_vol_ul', 'nb_of_sec_with_6250b_<_vol_dl_<_31250b', 'nb_of_sec_with_6250b_<_vol_ul_<_37500b', 'nb_of_sec_with_vol_dl_<_6250b', 'nb_of_sec_with_vol_ul_<_1250b', 'total_ul_bytes', 'total_dl_bytes', 'social_media_dl_bytes', 'social_media_ul_bytes', 'google_dl_bytes', 'google_ul_bytes', 'email_dl_bytes', 'email_ul_bytes', 'youtube_dl_bytes', 'youtube_ul_bytes', 'netflix_dl_bytes', 'netflix_ul_bytes', 'gaming_dl_bytes', 'gaming_ul_bytes', 'other_dl_bytes', 'other_ul_bytes'] datatype to numeric\n",
      "2023-12-13 16:14:41,351:logger:change columns ['last_location_name', 'handset_manufacturer', 'handset_type'] datatype to string\n",
      "2023-12-13 16:14:54,919:logger:change columns ['start', 'end'] datatype to datatime\n"
     ]
    },
    {
     "name": "stdout",
     "output_type": "stream",
     "text": [
      "bearer_id                                          float64\n",
      "start                                       datetime64[ns]\n",
      "start_ms                                           float64\n",
      "end                                         datetime64[ns]\n",
      "end_ms                                             float64\n",
      "dur_ms                                             float64\n",
      "imsi                                               float64\n",
      "msisdn_number                                      float64\n",
      "imei                                               float64\n",
      "last_location_name                                  string\n",
      "avg_rtt_dl_ms                                      float64\n",
      "avg_rtt_ul_ms                                      float64\n",
      "avg_bearer_tp_dl_kbps                              float64\n",
      "avg_bearer_tp_ul_kbps                              float64\n",
      "tcp_dl_retrans_vol_bytes                           float64\n",
      "tcp_ul_retrans_vol_bytes                           float64\n",
      "dl_tp_<_50_kbps_pct                                float64\n",
      "50_kbps_<_dl_tp_<_250_kbps_pct                     float64\n",
      "250_kbps_<_dl_tp_<_1_mbps_pct                      float64\n",
      "dl_tp_>_1_mbps_pct                                 float64\n",
      "ul_tp_<_10_kbps_pct                                float64\n",
      "10_kbps_<_ul_tp_<_50_kbps_pct                      float64\n",
      "50_kbps_<_ul_tp_<_300_kbps_pct                     float64\n",
      "ul_tp_>_300_kbps_pct                               float64\n",
      "http_dl_bytes                                      float64\n",
      "http_ul_bytes                                      float64\n",
      "activity_duration_dl_ms                            float64\n",
      "activity_duration_ul_ms                            float64\n",
      "dur_ms_1                                           float64\n",
      "handset_manufacturer                                string\n",
      "handset_type                                        string\n",
      "nb_of_sec_with_125000b_<_vol_dl                    float64\n",
      "nb_of_sec_with_1250b_<_vol_ul_<_6250b              float64\n",
      "nb_of_sec_with_31250b_<_vol_dl_<_125000b           float64\n",
      "nb_of_sec_with_37500b_<_vol_ul                     float64\n",
      "nb_of_sec_with_6250b_<_vol_dl_<_31250b             float64\n",
      "nb_of_sec_with_6250b_<_vol_ul_<_37500b             float64\n",
      "nb_of_sec_with_vol_dl_<_6250b                      float64\n",
      "nb_of_sec_with_vol_ul_<_1250b                      float64\n",
      "social_media_dl_bytes                              float64\n",
      "social_media_ul_bytes                              float64\n",
      "google_dl_bytes                                    float64\n",
      "google_ul_bytes                                    float64\n",
      "email_dl_bytes                                     float64\n",
      "email_ul_bytes                                     float64\n",
      "youtube_dl_bytes                                   float64\n",
      "youtube_ul_bytes                                   float64\n",
      "netflix_dl_bytes                                   float64\n",
      "netflix_ul_bytes                                   float64\n",
      "gaming_dl_bytes                                    float64\n",
      "gaming_ul_bytes                                    float64\n",
      "other_dl_bytes                                     float64\n",
      "other_ul_bytes                                     float64\n",
      "total_ul_bytes                                     float64\n",
      "total_dl_bytes                                     float64\n",
      "dtype: object\n"
     ]
    }
   ],
   "source": [
    "numeric_columns = [\n",
    "                    'bearer_id',\"start_ms\",\"end_ms\",'dur_ms', 'imsi', 'msisdn_number', 'imei', \n",
    "                    'avg_rtt_dl_ms', 'avg_rtt_ul_ms','avg_bearer_tp_dl_kbps', 'avg_bearer_tp_ul_kbps',\n",
    "                    'tcp_dl_retrans_vol_bytes', 'tcp_ul_retrans_vol_bytes', 'dl_tp_<_50_kbps_pct', \n",
    "                    '50_kbps_<_dl_tp_<_250_kbps_pct','250_kbps_<_dl_tp_<_1_mbps_pct', 'dl_tp_>_1_mbps_pct',\n",
    "                    'ul_tp_<_10_kbps_pct', '10_kbps_<_ul_tp_<_50_kbps_pct', '50_kbps_<_ul_tp_<_300_kbps_pct',\n",
    "                    'ul_tp_>_300_kbps_pct', 'http_dl_bytes', 'http_ul_bytes', 'activity_duration_dl_ms', \n",
    "                    'activity_duration_ul_ms', 'dur_ms_1', 'nb_of_sec_with_125000b_<_vol_dl',\n",
    "                    'nb_of_sec_with_1250b_<_vol_ul_<_6250b', 'nb_of_sec_with_31250b_<_vol_dl_<_125000b',\n",
    "                    'nb_of_sec_with_37500b_<_vol_ul', 'nb_of_sec_with_6250b_<_vol_dl_<_31250b', \n",
    "                    'nb_of_sec_with_6250b_<_vol_ul_<_37500b', 'nb_of_sec_with_vol_dl_<_6250b',\n",
    "                    'nb_of_sec_with_vol_ul_<_1250b', 'total_ul_bytes', 'total_dl_bytes', \"social_media_dl_bytes\",\n",
    "                    \"social_media_ul_bytes\", \"google_dl_bytes\", \"google_ul_bytes\", \"email_dl_bytes\", \n",
    "                    \"email_ul_bytes\", \"youtube_dl_bytes\", \"youtube_ul_bytes\", \"netflix_dl_bytes\", \n",
    "                    \"netflix_ul_bytes\", \"gaming_dl_bytes\", \"gaming_ul_bytes\", \"other_dl_bytes\",  \"other_ul_bytes\"                                                        \n",
    "                ]\n",
    "\n",
    "string_columns = ['last_location_name', 'handset_manufacturer', 'handset_type']\n",
    "datetime_columns = [\"start\", \"end\"]\n",
    "\n",
    "df = cleaning_utils.change_datatype_to_float(df, numeric_columns)\n",
    "df = cleaning_utils.change_datatype_to_string(df, string_columns)\n",
    "df = cleaning_utils.change_datatype_to_datetime(df, datetime_columns)\n",
    "print(df.dtypes)"
   ]
  },
  {
   "cell_type": "markdown",
   "metadata": {},
   "source": [
    "### Handle Missing Values"
   ]
  },
  {
   "cell_type": "code",
   "execution_count": 12,
   "metadata": {},
   "outputs": [
    {
     "name": "stderr",
     "output_type": "stream",
     "text": [
      "2023-12-13 16:14:55,075:logger:Get missing values percentage from dataframe\n"
     ]
    },
    {
     "data": {
      "text/html": [
       "<div>\n",
       "<style scoped>\n",
       "    .dataframe tbody tr th:only-of-type {\n",
       "        vertical-align: middle;\n",
       "    }\n",
       "\n",
       "    .dataframe tbody tr th {\n",
       "        vertical-align: top;\n",
       "    }\n",
       "\n",
       "    .dataframe thead th {\n",
       "        text-align: right;\n",
       "    }\n",
       "</style>\n",
       "<table border=\"1\" class=\"dataframe\">\n",
       "  <thead>\n",
       "    <tr style=\"text-align: right;\">\n",
       "      <th></th>\n",
       "      <th>missing_percent</th>\n",
       "    </tr>\n",
       "  </thead>\n",
       "  <tbody>\n",
       "    <tr>\n",
       "      <th>email_ul_bytes</th>\n",
       "      <td>0.002667</td>\n",
       "    </tr>\n",
       "    <tr>\n",
       "      <th>social_media_dl_bytes</th>\n",
       "      <td>0.002667</td>\n",
       "    </tr>\n",
       "    <tr>\n",
       "      <th>social_media_ul_bytes</th>\n",
       "      <td>0.002667</td>\n",
       "    </tr>\n",
       "    <tr>\n",
       "      <th>google_dl_bytes</th>\n",
       "      <td>0.002667</td>\n",
       "    </tr>\n",
       "    <tr>\n",
       "      <th>google_ul_bytes</th>\n",
       "      <td>0.002667</td>\n",
       "    </tr>\n",
       "    <tr>\n",
       "      <th>email_dl_bytes</th>\n",
       "      <td>0.002667</td>\n",
       "    </tr>\n",
       "    <tr>\n",
       "      <th>last_location_name</th>\n",
       "      <td>0.002667</td>\n",
       "    </tr>\n",
       "    <tr>\n",
       "      <th>handset_type</th>\n",
       "      <td>0.002667</td>\n",
       "    </tr>\n",
       "    <tr>\n",
       "      <th>youtube_dl_bytes</th>\n",
       "      <td>0.002667</td>\n",
       "    </tr>\n",
       "    <tr>\n",
       "      <th>netflix_dl_bytes</th>\n",
       "      <td>0.002667</td>\n",
       "    </tr>\n",
       "    <tr>\n",
       "      <th>netflix_ul_bytes</th>\n",
       "      <td>0.002667</td>\n",
       "    </tr>\n",
       "    <tr>\n",
       "      <th>gaming_dl_bytes</th>\n",
       "      <td>0.002667</td>\n",
       "    </tr>\n",
       "    <tr>\n",
       "      <th>gaming_ul_bytes</th>\n",
       "      <td>0.002667</td>\n",
       "    </tr>\n",
       "    <tr>\n",
       "      <th>other_dl_bytes</th>\n",
       "      <td>0.002667</td>\n",
       "    </tr>\n",
       "    <tr>\n",
       "      <th>other_ul_bytes</th>\n",
       "      <td>0.002667</td>\n",
       "    </tr>\n",
       "    <tr>\n",
       "      <th>youtube_ul_bytes</th>\n",
       "      <td>0.002667</td>\n",
       "    </tr>\n",
       "    <tr>\n",
       "      <th>handset_manufacturer</th>\n",
       "      <td>0.002667</td>\n",
       "    </tr>\n",
       "    <tr>\n",
       "      <th>dur_ms_1</th>\n",
       "      <td>0.003333</td>\n",
       "    </tr>\n",
       "    <tr>\n",
       "      <th>activity_duration_ul_ms</th>\n",
       "      <td>0.003333</td>\n",
       "    </tr>\n",
       "    <tr>\n",
       "      <th>total_ul_bytes</th>\n",
       "      <td>0.003333</td>\n",
       "    </tr>\n",
       "    <tr>\n",
       "      <th>activity_duration_dl_ms</th>\n",
       "      <td>0.003333</td>\n",
       "    </tr>\n",
       "    <tr>\n",
       "      <th>total_dl_bytes</th>\n",
       "      <td>0.003333</td>\n",
       "    </tr>\n",
       "    <tr>\n",
       "      <th>avg_bearer_tp_ul_kbps</th>\n",
       "      <td>0.003333</td>\n",
       "    </tr>\n",
       "    <tr>\n",
       "      <th>avg_bearer_tp_dl_kbps</th>\n",
       "      <td>0.003333</td>\n",
       "    </tr>\n",
       "    <tr>\n",
       "      <th>start</th>\n",
       "      <td>0.003333</td>\n",
       "    </tr>\n",
       "    <tr>\n",
       "      <th>start_ms</th>\n",
       "      <td>0.003333</td>\n",
       "    </tr>\n",
       "    <tr>\n",
       "      <th>dur_ms</th>\n",
       "      <td>0.003333</td>\n",
       "    </tr>\n",
       "    <tr>\n",
       "      <th>end_ms</th>\n",
       "      <td>0.003333</td>\n",
       "    </tr>\n",
       "    <tr>\n",
       "      <th>end</th>\n",
       "      <td>0.003333</td>\n",
       "    </tr>\n",
       "    <tr>\n",
       "      <th>imsi</th>\n",
       "      <td>0.382654</td>\n",
       "    </tr>\n",
       "    <tr>\n",
       "      <th>imei</th>\n",
       "      <td>0.383987</td>\n",
       "    </tr>\n",
       "    <tr>\n",
       "      <th>dl_tp_&lt;_50_kbps_pct</th>\n",
       "      <td>0.505316</td>\n",
       "    </tr>\n",
       "    <tr>\n",
       "      <th>50_kbps_&lt;_dl_tp_&lt;_250_kbps_pct</th>\n",
       "      <td>0.505316</td>\n",
       "    </tr>\n",
       "    <tr>\n",
       "      <th>250_kbps_&lt;_dl_tp_&lt;_1_mbps_pct</th>\n",
       "      <td>0.505316</td>\n",
       "    </tr>\n",
       "    <tr>\n",
       "      <th>dl_tp_&gt;_1_mbps_pct</th>\n",
       "      <td>0.505316</td>\n",
       "    </tr>\n",
       "    <tr>\n",
       "      <th>nb_of_sec_with_vol_dl_&lt;_6250b</th>\n",
       "      <td>0.505983</td>\n",
       "    </tr>\n",
       "    <tr>\n",
       "      <th>ul_tp_&lt;_10_kbps_pct</th>\n",
       "      <td>0.530649</td>\n",
       "    </tr>\n",
       "    <tr>\n",
       "      <th>ul_tp_&gt;_300_kbps_pct</th>\n",
       "      <td>0.530649</td>\n",
       "    </tr>\n",
       "    <tr>\n",
       "      <th>10_kbps_&lt;_ul_tp_&lt;_50_kbps_pct</th>\n",
       "      <td>0.530649</td>\n",
       "    </tr>\n",
       "    <tr>\n",
       "      <th>50_kbps_&lt;_ul_tp_&lt;_300_kbps_pct</th>\n",
       "      <td>0.530649</td>\n",
       "    </tr>\n",
       "    <tr>\n",
       "      <th>nb_of_sec_with_vol_ul_&lt;_1250b</th>\n",
       "      <td>0.531316</td>\n",
       "    </tr>\n",
       "    <tr>\n",
       "      <th>bearer_id</th>\n",
       "      <td>0.663311</td>\n",
       "    </tr>\n",
       "    <tr>\n",
       "      <th>msisdn_number</th>\n",
       "      <td>0.713310</td>\n",
       "    </tr>\n",
       "    <tr>\n",
       "      <th>avg_rtt_ul_ms</th>\n",
       "      <td>18.543382</td>\n",
       "    </tr>\n",
       "    <tr>\n",
       "      <th>avg_rtt_dl_ms</th>\n",
       "      <td>18.554715</td>\n",
       "    </tr>\n",
       "    <tr>\n",
       "      <th>http_dl_bytes</th>\n",
       "      <td>54.316856</td>\n",
       "    </tr>\n",
       "    <tr>\n",
       "      <th>http_ul_bytes</th>\n",
       "      <td>54.540849</td>\n",
       "    </tr>\n",
       "    <tr>\n",
       "      <th>tcp_dl_retrans_vol_bytes</th>\n",
       "      <td>58.764708</td>\n",
       "    </tr>\n",
       "    <tr>\n",
       "      <th>nb_of_sec_with_6250b_&lt;_vol_dl_&lt;_31250b</th>\n",
       "      <td>58.878704</td>\n",
       "    </tr>\n",
       "    <tr>\n",
       "      <th>nb_of_sec_with_1250b_&lt;_vol_ul_&lt;_6250b</th>\n",
       "      <td>61.929936</td>\n",
       "    </tr>\n",
       "    <tr>\n",
       "      <th>nb_of_sec_with_31250b_&lt;_vol_dl_&lt;_125000b</th>\n",
       "      <td>62.391254</td>\n",
       "    </tr>\n",
       "    <tr>\n",
       "      <th>tcp_ul_retrans_vol_bytes</th>\n",
       "      <td>64.433186</td>\n",
       "    </tr>\n",
       "    <tr>\n",
       "      <th>nb_of_sec_with_125000b_&lt;_vol_dl</th>\n",
       "      <td>65.025832</td>\n",
       "    </tr>\n",
       "    <tr>\n",
       "      <th>nb_of_sec_with_6250b_&lt;_vol_ul_&lt;_37500b</th>\n",
       "      <td>74.562181</td>\n",
       "    </tr>\n",
       "    <tr>\n",
       "      <th>nb_of_sec_with_37500b_&lt;_vol_ul</th>\n",
       "      <td>86.835772</td>\n",
       "    </tr>\n",
       "  </tbody>\n",
       "</table>\n",
       "</div>"
      ],
      "text/plain": [
       "                                          missing_percent\n",
       "email_ul_bytes                                   0.002667\n",
       "social_media_dl_bytes                            0.002667\n",
       "social_media_ul_bytes                            0.002667\n",
       "google_dl_bytes                                  0.002667\n",
       "google_ul_bytes                                  0.002667\n",
       "email_dl_bytes                                   0.002667\n",
       "last_location_name                               0.002667\n",
       "handset_type                                     0.002667\n",
       "youtube_dl_bytes                                 0.002667\n",
       "netflix_dl_bytes                                 0.002667\n",
       "netflix_ul_bytes                                 0.002667\n",
       "gaming_dl_bytes                                  0.002667\n",
       "gaming_ul_bytes                                  0.002667\n",
       "other_dl_bytes                                   0.002667\n",
       "other_ul_bytes                                   0.002667\n",
       "youtube_ul_bytes                                 0.002667\n",
       "handset_manufacturer                             0.002667\n",
       "dur_ms_1                                         0.003333\n",
       "activity_duration_ul_ms                          0.003333\n",
       "total_ul_bytes                                   0.003333\n",
       "activity_duration_dl_ms                          0.003333\n",
       "total_dl_bytes                                   0.003333\n",
       "avg_bearer_tp_ul_kbps                            0.003333\n",
       "avg_bearer_tp_dl_kbps                            0.003333\n",
       "start                                            0.003333\n",
       "start_ms                                         0.003333\n",
       "dur_ms                                           0.003333\n",
       "end_ms                                           0.003333\n",
       "end                                              0.003333\n",
       "imsi                                             0.382654\n",
       "imei                                             0.383987\n",
       "dl_tp_<_50_kbps_pct                              0.505316\n",
       "50_kbps_<_dl_tp_<_250_kbps_pct                   0.505316\n",
       "250_kbps_<_dl_tp_<_1_mbps_pct                    0.505316\n",
       "dl_tp_>_1_mbps_pct                               0.505316\n",
       "nb_of_sec_with_vol_dl_<_6250b                    0.505983\n",
       "ul_tp_<_10_kbps_pct                              0.530649\n",
       "ul_tp_>_300_kbps_pct                             0.530649\n",
       "10_kbps_<_ul_tp_<_50_kbps_pct                    0.530649\n",
       "50_kbps_<_ul_tp_<_300_kbps_pct                   0.530649\n",
       "nb_of_sec_with_vol_ul_<_1250b                    0.531316\n",
       "bearer_id                                        0.663311\n",
       "msisdn_number                                    0.713310\n",
       "avg_rtt_ul_ms                                   18.543382\n",
       "avg_rtt_dl_ms                                   18.554715\n",
       "http_dl_bytes                                   54.316856\n",
       "http_ul_bytes                                   54.540849\n",
       "tcp_dl_retrans_vol_bytes                        58.764708\n",
       "nb_of_sec_with_6250b_<_vol_dl_<_31250b          58.878704\n",
       "nb_of_sec_with_1250b_<_vol_ul_<_6250b           61.929936\n",
       "nb_of_sec_with_31250b_<_vol_dl_<_125000b        62.391254\n",
       "tcp_ul_retrans_vol_bytes                        64.433186\n",
       "nb_of_sec_with_125000b_<_vol_dl                 65.025832\n",
       "nb_of_sec_with_6250b_<_vol_ul_<_37500b          74.562181\n",
       "nb_of_sec_with_37500b_<_vol_ul                  86.835772"
      ]
     },
     "execution_count": 12,
     "metadata": {},
     "output_type": "execute_result"
    }
   ],
   "source": [
    "cleaning_utils.get_missing_values_percent(df)"
   ]
  },
  {
   "cell_type": "markdown",
   "metadata": {},
   "source": [
    "#### Drop columns with high missing percentage (more than 30%)"
   ]
  },
  {
   "cell_type": "code",
   "execution_count": 13,
   "metadata": {},
   "outputs": [
    {
     "name": "stderr",
     "output_type": "stream",
     "text": [
      "2023-12-13 16:14:55,224:logger:Drop columns with high missing values\n"
     ]
    },
    {
     "name": "stdout",
     "output_type": "stream",
     "text": [
      "Index(['tcp_dl_retrans_vol_bytes', 'tcp_ul_retrans_vol_bytes', 'http_dl_bytes',\n",
      "       'http_ul_bytes', 'nb_of_sec_with_125000b_<_vol_dl',\n",
      "       'nb_of_sec_with_1250b_<_vol_ul_<_6250b',\n",
      "       'nb_of_sec_with_31250b_<_vol_dl_<_125000b',\n",
      "       'nb_of_sec_with_37500b_<_vol_ul',\n",
      "       'nb_of_sec_with_6250b_<_vol_dl_<_31250b',\n",
      "       'nb_of_sec_with_6250b_<_vol_ul_<_37500b'],\n",
      "      dtype='object')\n"
     ]
    }
   ],
   "source": [
    "high_missing_cols = df.columns[df.isnull().mean() >= 0.3]\n",
    "cleaning_utils.drop_columns(df, high_missing_cols)\n",
    "print(high_missing_cols)"
   ]
  },
  {
   "cell_type": "markdown",
   "metadata": {},
   "source": [
    "#### Moderate Missing Percentage (between 5% and 30%)"
   ]
  },
  {
   "cell_type": "code",
   "execution_count": 14,
   "metadata": {},
   "outputs": [
    {
     "name": "stderr",
     "output_type": "stream",
     "text": [
      "2023-12-13 16:14:55,507:logger:forward fill missing values\n"
     ]
    },
    {
     "name": "stdout",
     "output_type": "stream",
     "text": [
      "Index(['avg_rtt_dl_ms', 'avg_rtt_ul_ms'], dtype='object')\n"
     ]
    }
   ],
   "source": [
    "moderate_missing_cols = df.columns[(0.05 <= df.isnull().mean()) & (df.isnull().mean() < 0.3)]\n",
    "df = cleaning_utils.forward_fill_missing_values(df, moderate_missing_cols)\n",
    "print(moderate_missing_cols)"
   ]
  },
  {
   "cell_type": "code",
   "execution_count": 15,
   "metadata": {},
   "outputs": [
    {
     "name": "stdout",
     "output_type": "stream",
     "text": [
      "Index(['bearer_id', 'start', 'start_ms', 'end', 'end_ms', 'dur_ms', 'imsi',\n",
      "       'msisdn_number', 'imei', 'last_location_name', 'avg_rtt_dl_ms',\n",
      "       'avg_rtt_ul_ms', 'avg_bearer_tp_dl_kbps', 'avg_bearer_tp_ul_kbps',\n",
      "       'dl_tp_<_50_kbps_pct', '50_kbps_<_dl_tp_<_250_kbps_pct',\n",
      "       '250_kbps_<_dl_tp_<_1_mbps_pct', 'dl_tp_>_1_mbps_pct',\n",
      "       'ul_tp_<_10_kbps_pct', '10_kbps_<_ul_tp_<_50_kbps_pct',\n",
      "       '50_kbps_<_ul_tp_<_300_kbps_pct', 'ul_tp_>_300_kbps_pct',\n",
      "       'activity_duration_dl_ms', 'activity_duration_ul_ms', 'dur_ms_1',\n",
      "       'handset_manufacturer', 'handset_type', 'nb_of_sec_with_vol_dl_<_6250b',\n",
      "       'nb_of_sec_with_vol_ul_<_1250b', 'social_media_dl_bytes',\n",
      "       'social_media_ul_bytes', 'google_dl_bytes', 'google_ul_bytes',\n",
      "       'email_dl_bytes', 'email_ul_bytes', 'youtube_dl_bytes',\n",
      "       'youtube_ul_bytes', 'netflix_dl_bytes', 'netflix_ul_bytes',\n",
      "       'gaming_dl_bytes', 'gaming_ul_bytes', 'other_dl_bytes',\n",
      "       'other_ul_bytes', 'total_ul_bytes', 'total_dl_bytes'],\n",
      "      dtype='object')\n"
     ]
    }
   ],
   "source": [
    "low_missing_cols = df.columns[df.isnull().mean() < 0.05]\n",
    "print(low_missing_cols)"
   ]
  },
  {
   "cell_type": "markdown",
   "metadata": {},
   "source": [
    "#### Fill mean for low missing values of float data type"
   ]
  },
  {
   "cell_type": "code",
   "execution_count": 16,
   "metadata": {},
   "outputs": [
    {
     "name": "stderr",
     "output_type": "stream",
     "text": [
      "2023-12-13 16:14:56,585:logger:fill missing values with mean\n"
     ]
    },
    {
     "name": "stdout",
     "output_type": "stream",
     "text": [
      "Index(['bearer_id', 'start_ms', 'end_ms', 'dur_ms', 'imsi', 'msisdn_number',\n",
      "       'imei', 'avg_rtt_dl_ms', 'avg_rtt_ul_ms', 'avg_bearer_tp_dl_kbps',\n",
      "       'avg_bearer_tp_ul_kbps', 'dl_tp_<_50_kbps_pct',\n",
      "       '50_kbps_<_dl_tp_<_250_kbps_pct', '250_kbps_<_dl_tp_<_1_mbps_pct',\n",
      "       'dl_tp_>_1_mbps_pct', 'ul_tp_<_10_kbps_pct',\n",
      "       '10_kbps_<_ul_tp_<_50_kbps_pct', '50_kbps_<_ul_tp_<_300_kbps_pct',\n",
      "       'ul_tp_>_300_kbps_pct', 'activity_duration_dl_ms',\n",
      "       'activity_duration_ul_ms', 'dur_ms_1', 'nb_of_sec_with_vol_dl_<_6250b',\n",
      "       'nb_of_sec_with_vol_ul_<_1250b', 'social_media_dl_bytes',\n",
      "       'social_media_ul_bytes', 'google_dl_bytes', 'google_ul_bytes',\n",
      "       'email_dl_bytes', 'email_ul_bytes', 'youtube_dl_bytes',\n",
      "       'youtube_ul_bytes', 'netflix_dl_bytes', 'netflix_ul_bytes',\n",
      "       'gaming_dl_bytes', 'gaming_ul_bytes', 'other_dl_bytes',\n",
      "       'other_ul_bytes', 'total_ul_bytes', 'total_dl_bytes'],\n",
      "      dtype='object')\n"
     ]
    }
   ],
   "source": [
    "numeric_cols = df[low_missing_cols].select_dtypes(include=['float64']).columns\n",
    "df = cleaning_utils.fill_mean_missing_values(df, numeric_cols)\n",
    "print(numeric_cols)"
   ]
  },
  {
   "cell_type": "markdown",
   "metadata": {},
   "source": [
    "#### Fill missing string columns with unknown"
   ]
  },
  {
   "cell_type": "code",
   "execution_count": 17,
   "metadata": {},
   "outputs": [
    {
     "name": "stderr",
     "output_type": "stream",
     "text": [
      "2023-12-13 16:14:57,333:logger:filel string type missing values with unknown\n"
     ]
    },
    {
     "name": "stdout",
     "output_type": "stream",
     "text": [
      "Index(['last_location_name', 'handset_manufacturer', 'handset_type'], dtype='object')\n"
     ]
    }
   ],
   "source": [
    "string_cols = df[low_missing_cols].select_dtypes(include=['string']).columns\n",
    "df = cleaning_utils.fill_unknown_missing_values(df, string_cols)\n",
    "print(string_cols)"
   ]
  },
  {
   "cell_type": "markdown",
   "metadata": {},
   "source": [
    "#### Fill missing time values"
   ]
  },
  {
   "cell_type": "code",
   "execution_count": 18,
   "metadata": {},
   "outputs": [
    {
     "name": "stderr",
     "output_type": "stream",
     "text": [
      "2023-12-13 16:14:57,356:logger:fill missing values for start and end time\n"
     ]
    }
   ],
   "source": [
    "df = cleaning_utils.fill_missing_time_values(df)"
   ]
  },
  {
   "cell_type": "code",
   "execution_count": 19,
   "metadata": {},
   "outputs": [
    {
     "name": "stderr",
     "output_type": "stream",
     "text": [
      "2023-12-13 16:14:57,484:logger:Get missing values percentage from dataframe\n"
     ]
    },
    {
     "data": {
      "text/html": [
       "<div>\n",
       "<style scoped>\n",
       "    .dataframe tbody tr th:only-of-type {\n",
       "        vertical-align: middle;\n",
       "    }\n",
       "\n",
       "    .dataframe tbody tr th {\n",
       "        vertical-align: top;\n",
       "    }\n",
       "\n",
       "    .dataframe thead th {\n",
       "        text-align: right;\n",
       "    }\n",
       "</style>\n",
       "<table border=\"1\" class=\"dataframe\">\n",
       "  <thead>\n",
       "    <tr style=\"text-align: right;\">\n",
       "      <th></th>\n",
       "      <th>missing_percent</th>\n",
       "    </tr>\n",
       "  </thead>\n",
       "  <tbody>\n",
       "    <tr>\n",
       "      <th>bearer_id</th>\n",
       "      <td>0.0</td>\n",
       "    </tr>\n",
       "    <tr>\n",
       "      <th>dur_ms_1</th>\n",
       "      <td>0.0</td>\n",
       "    </tr>\n",
       "    <tr>\n",
       "      <th>handset_manufacturer</th>\n",
       "      <td>0.0</td>\n",
       "    </tr>\n",
       "    <tr>\n",
       "      <th>handset_type</th>\n",
       "      <td>0.0</td>\n",
       "    </tr>\n",
       "    <tr>\n",
       "      <th>nb_of_sec_with_vol_dl_&lt;_6250b</th>\n",
       "      <td>0.0</td>\n",
       "    </tr>\n",
       "    <tr>\n",
       "      <th>nb_of_sec_with_vol_ul_&lt;_1250b</th>\n",
       "      <td>0.0</td>\n",
       "    </tr>\n",
       "    <tr>\n",
       "      <th>social_media_dl_bytes</th>\n",
       "      <td>0.0</td>\n",
       "    </tr>\n",
       "    <tr>\n",
       "      <th>social_media_ul_bytes</th>\n",
       "      <td>0.0</td>\n",
       "    </tr>\n",
       "    <tr>\n",
       "      <th>google_dl_bytes</th>\n",
       "      <td>0.0</td>\n",
       "    </tr>\n",
       "    <tr>\n",
       "      <th>google_ul_bytes</th>\n",
       "      <td>0.0</td>\n",
       "    </tr>\n",
       "    <tr>\n",
       "      <th>email_dl_bytes</th>\n",
       "      <td>0.0</td>\n",
       "    </tr>\n",
       "    <tr>\n",
       "      <th>email_ul_bytes</th>\n",
       "      <td>0.0</td>\n",
       "    </tr>\n",
       "    <tr>\n",
       "      <th>youtube_dl_bytes</th>\n",
       "      <td>0.0</td>\n",
       "    </tr>\n",
       "    <tr>\n",
       "      <th>youtube_ul_bytes</th>\n",
       "      <td>0.0</td>\n",
       "    </tr>\n",
       "    <tr>\n",
       "      <th>netflix_dl_bytes</th>\n",
       "      <td>0.0</td>\n",
       "    </tr>\n",
       "    <tr>\n",
       "      <th>netflix_ul_bytes</th>\n",
       "      <td>0.0</td>\n",
       "    </tr>\n",
       "    <tr>\n",
       "      <th>gaming_dl_bytes</th>\n",
       "      <td>0.0</td>\n",
       "    </tr>\n",
       "    <tr>\n",
       "      <th>gaming_ul_bytes</th>\n",
       "      <td>0.0</td>\n",
       "    </tr>\n",
       "    <tr>\n",
       "      <th>other_dl_bytes</th>\n",
       "      <td>0.0</td>\n",
       "    </tr>\n",
       "    <tr>\n",
       "      <th>other_ul_bytes</th>\n",
       "      <td>0.0</td>\n",
       "    </tr>\n",
       "    <tr>\n",
       "      <th>activity_duration_ul_ms</th>\n",
       "      <td>0.0</td>\n",
       "    </tr>\n",
       "    <tr>\n",
       "      <th>total_ul_bytes</th>\n",
       "      <td>0.0</td>\n",
       "    </tr>\n",
       "    <tr>\n",
       "      <th>activity_duration_dl_ms</th>\n",
       "      <td>0.0</td>\n",
       "    </tr>\n",
       "    <tr>\n",
       "      <th>50_kbps_&lt;_ul_tp_&lt;_300_kbps_pct</th>\n",
       "      <td>0.0</td>\n",
       "    </tr>\n",
       "    <tr>\n",
       "      <th>start</th>\n",
       "      <td>0.0</td>\n",
       "    </tr>\n",
       "    <tr>\n",
       "      <th>start_ms</th>\n",
       "      <td>0.0</td>\n",
       "    </tr>\n",
       "    <tr>\n",
       "      <th>end</th>\n",
       "      <td>0.0</td>\n",
       "    </tr>\n",
       "    <tr>\n",
       "      <th>end_ms</th>\n",
       "      <td>0.0</td>\n",
       "    </tr>\n",
       "    <tr>\n",
       "      <th>dur_ms</th>\n",
       "      <td>0.0</td>\n",
       "    </tr>\n",
       "    <tr>\n",
       "      <th>imsi</th>\n",
       "      <td>0.0</td>\n",
       "    </tr>\n",
       "    <tr>\n",
       "      <th>msisdn_number</th>\n",
       "      <td>0.0</td>\n",
       "    </tr>\n",
       "    <tr>\n",
       "      <th>imei</th>\n",
       "      <td>0.0</td>\n",
       "    </tr>\n",
       "    <tr>\n",
       "      <th>last_location_name</th>\n",
       "      <td>0.0</td>\n",
       "    </tr>\n",
       "    <tr>\n",
       "      <th>avg_rtt_dl_ms</th>\n",
       "      <td>0.0</td>\n",
       "    </tr>\n",
       "    <tr>\n",
       "      <th>avg_rtt_ul_ms</th>\n",
       "      <td>0.0</td>\n",
       "    </tr>\n",
       "    <tr>\n",
       "      <th>avg_bearer_tp_dl_kbps</th>\n",
       "      <td>0.0</td>\n",
       "    </tr>\n",
       "    <tr>\n",
       "      <th>avg_bearer_tp_ul_kbps</th>\n",
       "      <td>0.0</td>\n",
       "    </tr>\n",
       "    <tr>\n",
       "      <th>dl_tp_&lt;_50_kbps_pct</th>\n",
       "      <td>0.0</td>\n",
       "    </tr>\n",
       "    <tr>\n",
       "      <th>50_kbps_&lt;_dl_tp_&lt;_250_kbps_pct</th>\n",
       "      <td>0.0</td>\n",
       "    </tr>\n",
       "    <tr>\n",
       "      <th>250_kbps_&lt;_dl_tp_&lt;_1_mbps_pct</th>\n",
       "      <td>0.0</td>\n",
       "    </tr>\n",
       "    <tr>\n",
       "      <th>dl_tp_&gt;_1_mbps_pct</th>\n",
       "      <td>0.0</td>\n",
       "    </tr>\n",
       "    <tr>\n",
       "      <th>ul_tp_&lt;_10_kbps_pct</th>\n",
       "      <td>0.0</td>\n",
       "    </tr>\n",
       "    <tr>\n",
       "      <th>10_kbps_&lt;_ul_tp_&lt;_50_kbps_pct</th>\n",
       "      <td>0.0</td>\n",
       "    </tr>\n",
       "    <tr>\n",
       "      <th>ul_tp_&gt;_300_kbps_pct</th>\n",
       "      <td>0.0</td>\n",
       "    </tr>\n",
       "    <tr>\n",
       "      <th>total_dl_bytes</th>\n",
       "      <td>0.0</td>\n",
       "    </tr>\n",
       "  </tbody>\n",
       "</table>\n",
       "</div>"
      ],
      "text/plain": [
       "                                missing_percent\n",
       "bearer_id                                   0.0\n",
       "dur_ms_1                                    0.0\n",
       "handset_manufacturer                        0.0\n",
       "handset_type                                0.0\n",
       "nb_of_sec_with_vol_dl_<_6250b               0.0\n",
       "nb_of_sec_with_vol_ul_<_1250b               0.0\n",
       "social_media_dl_bytes                       0.0\n",
       "social_media_ul_bytes                       0.0\n",
       "google_dl_bytes                             0.0\n",
       "google_ul_bytes                             0.0\n",
       "email_dl_bytes                              0.0\n",
       "email_ul_bytes                              0.0\n",
       "youtube_dl_bytes                            0.0\n",
       "youtube_ul_bytes                            0.0\n",
       "netflix_dl_bytes                            0.0\n",
       "netflix_ul_bytes                            0.0\n",
       "gaming_dl_bytes                             0.0\n",
       "gaming_ul_bytes                             0.0\n",
       "other_dl_bytes                              0.0\n",
       "other_ul_bytes                              0.0\n",
       "activity_duration_ul_ms                     0.0\n",
       "total_ul_bytes                              0.0\n",
       "activity_duration_dl_ms                     0.0\n",
       "50_kbps_<_ul_tp_<_300_kbps_pct              0.0\n",
       "start                                       0.0\n",
       "start_ms                                    0.0\n",
       "end                                         0.0\n",
       "end_ms                                      0.0\n",
       "dur_ms                                      0.0\n",
       "imsi                                        0.0\n",
       "msisdn_number                               0.0\n",
       "imei                                        0.0\n",
       "last_location_name                          0.0\n",
       "avg_rtt_dl_ms                               0.0\n",
       "avg_rtt_ul_ms                               0.0\n",
       "avg_bearer_tp_dl_kbps                       0.0\n",
       "avg_bearer_tp_ul_kbps                       0.0\n",
       "dl_tp_<_50_kbps_pct                         0.0\n",
       "50_kbps_<_dl_tp_<_250_kbps_pct              0.0\n",
       "250_kbps_<_dl_tp_<_1_mbps_pct               0.0\n",
       "dl_tp_>_1_mbps_pct                          0.0\n",
       "ul_tp_<_10_kbps_pct                         0.0\n",
       "10_kbps_<_ul_tp_<_50_kbps_pct               0.0\n",
       "ul_tp_>_300_kbps_pct                        0.0\n",
       "total_dl_bytes                              0.0"
      ]
     },
     "execution_count": 19,
     "metadata": {},
     "output_type": "execute_result"
    }
   ],
   "source": [
    "cleaning_utils.get_missing_values_percent(df)"
   ]
  },
  {
   "cell_type": "markdown",
   "metadata": {},
   "source": [
    "### Deal with Duplicate Data"
   ]
  },
  {
   "cell_type": "code",
   "execution_count": 20,
   "metadata": {},
   "outputs": [
    {
     "name": "stderr",
     "output_type": "stream",
     "text": [
      "2023-12-13 16:15:00,293:logger:drop 3 duplicate rows\n"
     ]
    }
   ],
   "source": [
    "df = cleaning_utils.drop_duplicate_rows(df)"
   ]
  },
  {
   "cell_type": "markdown",
   "metadata": {},
   "source": [
    "### Address Outliers"
   ]
  },
  {
   "cell_type": "code",
   "execution_count": 21,
   "metadata": {},
   "outputs": [
    {
     "name": "stderr",
     "output_type": "stream",
     "text": [
      "2023-12-13 16:15:00,374:logger:Fix outliers\n",
      "2023-12-13 16:15:00,431:logger:Fix outliers\n",
      "2023-12-13 16:15:00,470:logger:Fix outliers\n"
     ]
    },
    {
     "name": "stderr",
     "output_type": "stream",
     "text": [
      "2023-12-13 16:15:00,507:logger:Fix outliers\n",
      "2023-12-13 16:15:00,551:logger:Fix outliers\n",
      "2023-12-13 16:15:00,587:logger:Fix outliers\n",
      "2023-12-13 16:15:00,632:logger:Fix outliers\n",
      "2023-12-13 16:15:00,667:logger:Fix outliers\n",
      "2023-12-13 16:15:00,699:logger:Fix outliers\n",
      "2023-12-13 16:15:00,740:logger:Fix outliers\n",
      "2023-12-13 16:15:00,782:logger:Fix outliers\n",
      "2023-12-13 16:15:00,829:logger:Fix outliers\n",
      "2023-12-13 16:15:00,860:logger:Fix outliers\n",
      "2023-12-13 16:15:00,889:logger:Fix outliers\n",
      "2023-12-13 16:15:00,914:logger:Fix outliers\n",
      "2023-12-13 16:15:00,942:logger:Fix outliers\n",
      "2023-12-13 16:15:00,980:logger:Fix outliers\n",
      "2023-12-13 16:15:01,016:logger:Fix outliers\n",
      "2023-12-13 16:15:01,039:logger:Fix outliers\n",
      "2023-12-13 16:15:01,068:logger:Fix outliers\n",
      "2023-12-13 16:15:01,091:logger:Fix outliers\n",
      "2023-12-13 16:15:01,117:logger:Fix outliers\n",
      "2023-12-13 16:15:01,143:logger:Fix outliers\n",
      "2023-12-13 16:15:01,169:logger:Fix outliers\n",
      "2023-12-13 16:15:01,195:logger:Fix outliers\n",
      "2023-12-13 16:15:01,220:logger:Fix outliers\n",
      "2023-12-13 16:15:01,241:logger:Fix outliers\n",
      "2023-12-13 16:15:01,268:logger:Fix outliers\n",
      "2023-12-13 16:15:01,291:logger:Fix outliers\n",
      "2023-12-13 16:15:01,314:logger:Fix outliers\n",
      "2023-12-13 16:15:01,344:logger:Fix outliers\n",
      "2023-12-13 16:15:01,370:logger:Fix outliers\n",
      "2023-12-13 16:15:01,405:logger:Fix outliers\n",
      "2023-12-13 16:15:01,435:logger:Fix outliers\n",
      "2023-12-13 16:15:01,460:logger:Fix outliers\n",
      "2023-12-13 16:15:01,480:logger:Fix outliers\n",
      "2023-12-13 16:15:01,504:logger:Fix outliers\n",
      "2023-12-13 16:15:01,523:logger:Fix outliers\n",
      "2023-12-13 16:15:01,540:logger:Fix outliers\n",
      "2023-12-13 16:15:01,559:logger:Fix outliers\n"
     ]
    }
   ],
   "source": [
    "df = cleaning_utils.fix_outliers(df)"
   ]
  },
  {
   "cell_type": "markdown",
   "metadata": {},
   "source": [
    "### Save Processed Data\n",
    "- Add columns for sum of ul and dl of applications\n",
    "- explort the dataframe as csv"
   ]
  },
  {
   "cell_type": "code",
   "execution_count": null,
   "metadata": {},
   "outputs": [],
   "source": [
    "df[\"social_media_total_bytes\"] = df[\"social_media_dl_bytes\"] + df['social_media_ul_bytes']\n",
    "df[\"google_total_bytes\"] = df[\"google_dl_bytes\"] + df[\"google_ul_bytes\"]\n",
    "df['email_total_bytes'] = df[\"email_dl_bytes\"] + df[\"email_ul_bytes\"]\n",
    "df['youtube_total_bytes'] = df[\"youtube_dl_bytes\"] + df[\"youtube_ul_bytes\"]\n",
    "df['netflix_total_bytes'] = df[\"netflix_dl_bytes\"] + df[\"netflix_ul_bytes\"]\n",
    "df[\"gaming_total_bytes\"] = df[\"gaming_dl_bytes\"] + df[\"gaming_ul_bytes\"]\n",
    "df['other_total_bytes'] = df[\"other_dl_bytes\"]+df[\"other_ul_bytes\"]\n",
    "df['total_data_bytes'] = df['total_dl_bytes'] + df['total_ul_bytes']"
   ]
  },
  {
   "cell_type": "code",
   "execution_count": 22,
   "metadata": {},
   "outputs": [],
   "source": [
    "df.to_csv('../data/cleaned_tellco_data.csv')"
   ]
  }
 ],
 "metadata": {
  "kernelspec": {
   "display_name": "tenx_week1",
   "language": "python",
   "name": "python3"
  },
  "language_info": {
   "codemirror_mode": {
    "name": "ipython",
    "version": 3
   },
   "file_extension": ".py",
   "mimetype": "text/x-python",
   "name": "python",
   "nbconvert_exporter": "python",
   "pygments_lexer": "ipython3",
   "version": "3.12.0"
  }
 },
 "nbformat": 4,
 "nbformat_minor": 2
}
