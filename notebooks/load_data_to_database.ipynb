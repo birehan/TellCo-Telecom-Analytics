{
 "cells": [
  {
   "cell_type": "code",
   "execution_count": 1,
   "metadata": {},
   "outputs": [],
   "source": [
    "import sys\n",
    "import os\n",
    "\n",
    "sys.path.append(os.path.abspath(os.path.join('../src')))\n",
    "from data_loader import load_sql_to_dataframe, run_sql_query, populate_dataframe_to_database"
   ]
  },
  {
   "cell_type": "markdown",
   "metadata": {},
   "source": [
    "### Load sql file dumped data to dataframe"
   ]
  },
  {
   "cell_type": "markdown",
   "metadata": {},
   "source": []
  },
  {
   "cell_type": "code",
   "execution_count": 2,
   "metadata": {},
   "outputs": [
    {
     "name": "stderr",
     "output_type": "stream",
     "text": [
      "/home/babi/Desktop/10academy/TellCo-Telecom-Analytics/src/data_loader.py:74: DtypeWarning: Columns (2,4,5,12,13,26,27,28,53,54) have mixed types. Specify dtype option on import or set low_memory=False.\n",
      "  df = pd.read_csv(data_io, delimiter='\\t', header=None)\n",
      "2023-12-13 16:14:45,352:logger:Load sql file dumped data to pandas dataframe.\n"
     ]
    },
    {
     "name": "stdout",
     "output_type": "stream",
     "text": [
      "           (\"Bearer Id\"          \"Start\" \"Start ms\"            \"End\" \"End ms\"  \\\n",
      "0  1.31144834608449e+19   4/4/2019 12:01        770  4/25/2019 14:35      662   \n",
      "1  1.31144834828789e+19   4/9/2019 13:04        235   4/25/2019 8:15      606   \n",
      "2  1.31144834840805e+19   4/9/2019 17:42          1  4/25/2019 11:58      652   \n",
      "3  1.31144834854428e+19   4/10/2019 0:31        486   4/25/2019 7:36      171   \n",
      "4  1.31144834994807e+19  4/12/2019 20:10        565  4/25/2019 10:40      954   \n",
      "\n",
      "  \"Dur. (ms)\"           \"IMSI\" \"MSISDN/Number\"          \"IMEI\"  \\\n",
      "0     1823652  208201448079117     33664962239  35521209507511   \n",
      "1     1365104  208201909211140     33681854413  35794009006359   \n",
      "2     1361762  208200314458056     33760627129  35281510359387   \n",
      "3     1321509  208201402342131     33750343200  35356610164913   \n",
      "4     1089009  208201401415120     33699795932  35407009745539   \n",
      "\n",
      "    \"Last Location Name\"  ... \"Youtube DL (Bytes)\" \"Youtube UL (Bytes)\"  \\\n",
      "0  9.16456699548519E+015  ...           15854611.0            2501332.0   \n",
      "1                L77566A  ...           20247395.0           19111729.0   \n",
      "2                D42335A  ...           19725661.0           14699576.0   \n",
      "3                T21824A  ...           21388122.0           15146643.0   \n",
      "4                D88865A  ...           15259380.0           18962873.0   \n",
      "\n",
      "  \"Netflix DL (Bytes)\" \"Netflix UL (Bytes)\" \"Gaming DL (Bytes)\"  \\\n",
      "0            8198936.0            9656251.0         278082303.0   \n",
      "1           18338413.0           17227132.0         608750074.0   \n",
      "2           17587794.0            6163408.0         229584621.0   \n",
      "3           13994646.0            1097942.0         799538153.0   \n",
      "4           17124581.0             415218.0         527707248.0   \n",
      "\n",
      "  \"Gaming UL (Bytes)\" \"Other DL (Bytes)\" \"Other UL (Bytes)\"  \\\n",
      "0          14344150.0        171744450.0          8814393.0   \n",
      "1           1170709.0        526904238.0         15055145.0   \n",
      "2            395630.0        410692588.0          4215763.0   \n",
      "3          10849722.0        749039933.0         12797283.0   \n",
      "4           3529801.0        550709500.0         13910322.0   \n",
      "\n",
      "  \"Total UL (Bytes)\" \"Total DL (Bytes)\")  \n",
      "0           36749741           308879636  \n",
      "1           53800391           653384965  \n",
      "2           27883638           279807335  \n",
      "3           43324218           846028530  \n",
      "4           38542814           569138589  \n",
      "\n",
      "[5 rows x 55 columns]\n"
     ]
    }
   ],
   "source": [
    "df = load_sql_to_dataframe('../data/telecom.sql')\n",
    "print(df.head())"
   ]
  },
  {
   "cell_type": "markdown",
   "metadata": {},
   "source": [
    "### Load the data to postges database"
   ]
  },
  {
   "cell_type": "code",
   "execution_count": 3,
   "metadata": {},
   "outputs": [],
   "source": [
    "# Connection parameters\n",
    "connection_params = {\n",
    "    \"host\": \"localhost\",\n",
    "    \"user\": \"birehan\",\n",
    "    \"password\": \"password\",\n",
    "    \"port\": \"5432\",\n",
    "    \"database\": \"tellco_db\"  # Change to your desired database name\n",
    "}\n",
    "table_name = \"public.xdr_data\"\n",
    "\n",
    "queries = [\n",
    "    \"SET statement_timeout = 0;\",\n",
    "    \"SET lock_timeout = 0;\",\n",
    "    \"SET idle_in_transaction_session_timeout = 0;\",\n",
    "    \"SET client_encoding = 'UTF8';\",\n",
    "    \"SET standard_conforming_strings = on;\",\n",
    "    \"SELECT pg_catalog.set_config('search_path', '', false);\",\n",
    "    \"SET check_function_bodies = false;\",\n",
    "    \"SET xmloption = content;\",\n",
    "    \"SET client_min_messages = warning;\",\n",
    "    \"SET row_security = off;\",\n",
    "    \"SET default_tablespace = '';\",\n",
    "    \"SET default_table_access_method = heap;\",\n",
    "    \n",
    "]\n",
    "\n",
    "create_table_query =  '''CREATE TABLE public.xdr_data (\n",
    "    \"Bearer Id\" double precision,\n",
    "    \"Start\" double precision,\n",
    "    \"Start ms\" double precision,\n",
    "    \"End\" double precision,\n",
    "    \"End ms\" double precision,\n",
    "    \"Dur. (ms)\" double precision,\n",
    "    \"IMSI\" double precision,\n",
    "    \"MSISDN/Number\" double precision,\n",
    "    \"IMEI\" double precision,\n",
    "    \"Last Location Name\" text,\n",
    "    \"Avg RTT DL (ms)\" double precision,\n",
    "    \"Avg RTT UL (ms)\" double precision,\n",
    "    \"Avg Bearer TP DL (kbps)\" double precision,\n",
    "    \"Avg Bearer TP UL (kbps)\" double precision,\n",
    "    \"TCP DL Retrans. Vol (Bytes)\" double precision,\n",
    "    \"TCP UL Retrans. Vol (Bytes)\" double precision,\n",
    "    \"DL TP < 50 Kbps (%)\" double precision,\n",
    "    \"50 Kbps < DL TP < 250 Kbps (%)\" double precision,\n",
    "    \"250 Kbps < DL TP < 1 Mbps (%)\" double precision,\n",
    "    \"DL TP > 1 Mbps (%)\" double precision,\n",
    "    \"UL TP < 10 Kbps (%)\" double precision,\n",
    "    \"10 Kbps < UL TP < 50 Kbps (%)\" double precision,\n",
    "    \"50 Kbps < UL TP < 300 Kbps (%)\" double precision,\n",
    "    \"UL TP > 300 Kbps (%)\" double precision,\n",
    "    \"HTTP DL (Bytes)\" double precision,\n",
    "    \"HTTP UL (Bytes)\" double precision,\n",
    "    \"Activity Duration DL (ms)\" double precision,\n",
    "    \"Activity Duration UL (ms)\" double precision,\n",
    "    \"Dur. (ms).1\" double precision,\n",
    "    \"Handset Manufacturer\" text,\n",
    "    \"Handset Type\" text,\n",
    "    \"Nb of sec with 125000B < Vol DL\" double precision,\n",
    "    \"Nb of sec with 1250B < Vol UL < 6250B\" double precision,\n",
    "    \"Nb of sec with 31250B < Vol DL < 125000B\" double precision,\n",
    "    \"Nb of sec with 37500B < Vol UL\" double precision,\n",
    "    \"Nb of sec with 6250B < Vol DL < 31250B\" double precision,\n",
    "    \"Nb of sec with 6250B < Vol UL < 37500B\" double precision,\n",
    "    \"Nb of sec with Vol DL < 6250B\" double precision,\n",
    "    \"Nb of sec with Vol UL < 1250B\" double precision,\n",
    "    \"Social Media DL (Bytes)\" double precision,\n",
    "    \"Social Media UL (Bytes)\" double precision,\n",
    "    \"Google DL (Bytes)\" double precision,\n",
    "    \"Google UL (Bytes)\" double precision,\n",
    "    \"Email DL (Bytes)\" double precision,\n",
    "    \"Email UL (Bytes)\" double precision,\n",
    "    \"Youtube DL (Bytes)\" double precision,\n",
    "    \"Youtube UL (Bytes)\" double precision,\n",
    "    \"Netflix DL (Bytes)\" double precision,\n",
    "    \"Netflix UL (Bytes)\" double precision,\n",
    "    \"Gaming DL (Bytes)\" double precision,\n",
    "    \"Gaming UL (Bytes)\" double precision,\n",
    "    \"Other DL (Bytes)\" double precision,\n",
    "    \"Other UL (Bytes)\" double precision,\n",
    "    \"Total UL (Bytes)\" double precision,\n",
    "    \"Total DL (Bytes)\" double precision\n",
    ");'''\n",
    "change_role_query = \"ALTER TABLE public.xdr_data OWNER TO birehan;\""
   ]
  },
  {
   "cell_type": "code",
   "execution_count": 4,
   "metadata": {},
   "outputs": [
    {
     "name": "stderr",
     "output_type": "stream",
     "text": [
      "2023-12-13 16:14:45,454:logger:Successfully ran SQL query: SET statement_timeout = 0;\n",
      "2023-12-13 16:14:45,474:logger:Successfully ran SQL query: SET lock_timeout = 0;\n",
      "2023-12-13 16:14:45,487:logger:Successfully ran SQL query: SET idle_in_transaction_session_timeout = 0;\n",
      "2023-12-13 16:14:45,495:logger:Successfully ran SQL query: SET client_encoding = 'UTF8';\n",
      "2023-12-13 16:14:45,511:logger:Successfully ran SQL query: SET standard_conforming_strings = on;\n",
      "2023-12-13 16:14:45,522:logger:Successfully ran SQL query: SELECT pg_catalog.set_config('search_path', '', false);\n",
      "2023-12-13 16:14:45,533:logger:Successfully ran SQL query: SET check_function_bodies = false;\n",
      "2023-12-13 16:14:45,543:logger:Successfully ran SQL query: SET xmloption = content;\n",
      "2023-12-13 16:14:45,553:logger:Successfully ran SQL query: SET client_min_messages = warning;\n"
     ]
    },
    {
     "name": "stderr",
     "output_type": "stream",
     "text": [
      "2023-12-13 16:14:45,561:logger:Successfully ran SQL query: SET row_security = off;\n",
      "2023-12-13 16:14:45,577:logger:Successfully ran SQL query: SET default_tablespace = '';\n",
      "2023-12-13 16:14:45,590:logger:Successfully ran SQL query: SET default_table_access_method = heap;\n"
     ]
    }
   ],
   "source": [
    "# Run the queries\n",
    "for query in queries:\n",
    "    run_sql_query(connection_params, query)"
   ]
  },
  {
   "cell_type": "code",
   "execution_count": 5,
   "metadata": {},
   "outputs": [
    {
     "name": "stderr",
     "output_type": "stream",
     "text": [
      "2023-12-13 16:14:45,614:logger:Error running SQL query: relation \"xdr_data\" already exists\n",
      "\n"
     ]
    }
   ],
   "source": [
    "run_sql_query(connection_params, create_table_query)"
   ]
  },
  {
   "cell_type": "code",
   "execution_count": 6,
   "metadata": {},
   "outputs": [
    {
     "name": "stderr",
     "output_type": "stream",
     "text": [
      "2023-12-13 16:14:45,636:logger:Successfully ran SQL query: ALTER TABLE public.xdr_data OWNER TO birehan;\n"
     ]
    }
   ],
   "source": [
    "run_sql_query(connection_params, change_role_query)"
   ]
  },
  {
   "cell_type": "code",
   "execution_count": 7,
   "metadata": {},
   "outputs": [
    {
     "name": "stderr",
     "output_type": "stream",
     "text": [
      "2023-12-13 16:14:45,727:logger:Successfully connected to the database.\n"
     ]
    },
    {
     "name": "stderr",
     "output_type": "stream",
     "text": [
      "2023-12-13 16:15:29,453:logger:Inserted 150005 rows into the database table 'your_table_name'.\n",
      "2023-12-13 16:15:29,454:logger:Database connection closed.\n"
     ]
    }
   ],
   "source": [
    "\n",
    "populate_dataframe_to_database(connection_params, df, table_name)"
   ]
  },
  {
   "cell_type": "markdown",
   "metadata": {},
   "source": [
    "### Save the dataframe as csv file"
   ]
  },
  {
   "cell_type": "code",
   "execution_count": 8,
   "metadata": {},
   "outputs": [],
   "source": [
    "df.to_csv('../data/tellco_data.csv')"
   ]
  }
 ],
 "metadata": {
  "kernelspec": {
   "display_name": "tenx_week1",
   "language": "python",
   "name": "python3"
  },
  "language_info": {
   "codemirror_mode": {
    "name": "ipython",
    "version": 3
   },
   "file_extension": ".py",
   "mimetype": "text/x-python",
   "name": "python",
   "nbconvert_exporter": "python",
   "pygments_lexer": "ipython3",
   "version": "3.12.0"
  }
 },
 "nbformat": 4,
 "nbformat_minor": 2
}
